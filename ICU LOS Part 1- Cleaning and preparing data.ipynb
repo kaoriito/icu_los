{
 "cells": [
  {
   "cell_type": "markdown",
   "metadata": {},
   "source": [
    "For the first part of predicting ICU LOS, we will be loading in the datasets that we will be using, namely: \n",
    "- ICU Stays\n",
    "- Admissions data\n",
    "- Patients data (i.e., demographics)\n",
    "- Diagnosis \n",
    "- Lab events\n",
    "\n",
    "As part of the data cleaning, we will do the following:\n",
    "- verify LOS is correct (difference between ICU discharge and admit times)\n",
    "- calculate which admission # and ICU stay # each stay was\n",
    "- calculate age at admission, removing patients who are under 18 and over 80\n",
    "- remove ICU stays if a patient died during that stay (but keeping patients who died after the date of the ICU stay)\n",
    "- bi"
   ]
  },
  {
   "cell_type": "code",
   "execution_count": 532,
   "metadata": {},
   "outputs": [],
   "source": [
    "import pandas as pd\n",
    "import numpy as np\n",
    "import matplotlib.pyplot as plt\n",
    "import pandas.testing"
   ]
  },
  {
   "cell_type": "markdown",
   "metadata": {},
   "source": [
    "## 1. Read in and view data"
   ]
  },
  {
   "cell_type": "code",
   "execution_count": 533,
   "metadata": {},
   "outputs": [
    {
     "data": {
      "text/plain": [
       "61532"
      ]
     },
     "execution_count": 533,
     "metadata": {},
     "output_type": "execute_result"
    }
   ],
   "source": [
    "df_icu = pd.read_csv('data/Part1/ICUSTAYS.csv')\n",
    "len(df_icu)"
   ]
  },
  {
   "cell_type": "markdown",
   "metadata": {},
   "source": [
    "the main useful columns in the ICUSTAYS table to us are: SUBJECT_ID, HADM_ID, (possibly) ICUSTAY_ID, and LOS.\n",
    "\n",
    "I will also use INTIME and OUTTIME to make sure that the LOS is correct, especially since the database sources can be different"
   ]
  },
  {
   "cell_type": "code",
   "execution_count": 534,
   "metadata": {
    "scrolled": true
   },
   "outputs": [],
   "source": [
    "# convert date time format\n",
    "df_icu.OUTTIME = pd.to_datetime(df_icu.OUTTIME, format = '%Y-%m-%d %H:%M:%S', errors = 'coerce')\n",
    "df_icu.INTIME = pd.to_datetime(df_icu.INTIME, format = '%Y-%m-%d %H:%M:%S', errors = 'coerce')\n",
    "\n",
    "# recalculate LOS using difference between INTIME and OUTTIME to check the LOS column is correct\n",
    "los_check = (df_icu.OUTTIME - df_icu.INTIME).apply(lambda x: (x.total_seconds()/86400))\n",
    "\n",
    "# round both so they would match\n",
    "df_icu['los_check'] = los_check.round(4)\n",
    "df_icu['LOS_rounded'] = df_icu.LOS.round(4)\n"
   ]
  },
  {
   "cell_type": "code",
   "execution_count": 535,
   "metadata": {},
   "outputs": [],
   "source": [
    "# check that my calculation of ICU LOS and the one given match:\n",
    "\n",
    "#pandas.testing.assert_series_equal(df_icu.los_check, df_icu.LOS_rounded)"
   ]
  },
  {
   "cell_type": "markdown",
   "metadata": {},
   "source": [
    "so the LOS that is given is not always equal to the difference between outtime and intime - I will investigate this a bit further."
   ]
  },
  {
   "cell_type": "code",
   "execution_count": 536,
   "metadata": {},
   "outputs": [
    {
     "data": {
      "text/html": [
       "<div>\n",
       "<style scoped>\n",
       "    .dataframe tbody tr th:only-of-type {\n",
       "        vertical-align: middle;\n",
       "    }\n",
       "\n",
       "    .dataframe tbody tr th {\n",
       "        vertical-align: top;\n",
       "    }\n",
       "\n",
       "    .dataframe thead th {\n",
       "        text-align: right;\n",
       "    }\n",
       "</style>\n",
       "<table border=\"1\" class=\"dataframe\">\n",
       "  <thead>\n",
       "    <tr style=\"text-align: right;\">\n",
       "      <th></th>\n",
       "      <th>LOS_diff</th>\n",
       "    </tr>\n",
       "  </thead>\n",
       "  <tbody>\n",
       "    <tr>\n",
       "      <td>61</td>\n",
       "      <td>0.0001</td>\n",
       "    </tr>\n",
       "    <tr>\n",
       "      <td>869</td>\n",
       "      <td>0.0001</td>\n",
       "    </tr>\n",
       "    <tr>\n",
       "      <td>963</td>\n",
       "      <td>0.0001</td>\n",
       "    </tr>\n",
       "    <tr>\n",
       "      <td>1033</td>\n",
       "      <td>NaN</td>\n",
       "    </tr>\n",
       "    <tr>\n",
       "      <td>1067</td>\n",
       "      <td>0.0001</td>\n",
       "    </tr>\n",
       "    <tr>\n",
       "      <td>...</td>\n",
       "      <td>...</td>\n",
       "    </tr>\n",
       "    <tr>\n",
       "      <td>59055</td>\n",
       "      <td>0.0001</td>\n",
       "    </tr>\n",
       "    <tr>\n",
       "      <td>59705</td>\n",
       "      <td>0.0001</td>\n",
       "    </tr>\n",
       "    <tr>\n",
       "      <td>60576</td>\n",
       "      <td>0.0001</td>\n",
       "    </tr>\n",
       "    <tr>\n",
       "      <td>61122</td>\n",
       "      <td>0.0001</td>\n",
       "    </tr>\n",
       "    <tr>\n",
       "      <td>61262</td>\n",
       "      <td>0.0001</td>\n",
       "    </tr>\n",
       "  </tbody>\n",
       "</table>\n",
       "<p>268 rows × 1 columns</p>\n",
       "</div>"
      ],
      "text/plain": [
       "       LOS_diff\n",
       "61       0.0001\n",
       "869      0.0001\n",
       "963      0.0001\n",
       "1033        NaN\n",
       "1067     0.0001\n",
       "...         ...\n",
       "59055    0.0001\n",
       "59705    0.0001\n",
       "60576    0.0001\n",
       "61122    0.0001\n",
       "61262    0.0001\n",
       "\n",
       "[268 rows x 1 columns]"
      ]
     },
     "execution_count": 536,
     "metadata": {},
     "output_type": "execute_result"
    }
   ],
   "source": [
    "# check what the difference between these are\n",
    "df_icu['LOS_diff'] = abs(df_icu.LOS_rounded - df_icu.los_check)\n",
    "\n",
    "df_icu['LOS_equals'] = np.where(abs(df_icu.los_check-df_icu.LOS_rounded)==0, 1, 0)\n",
    "\n",
    "df_icu.loc[df_icu['LOS_equals']==0][['LOS_diff']]"
   ]
  },
  {
   "cell_type": "markdown",
   "metadata": {},
   "source": [
    "it turns out most of the differences was due to rounding differences so I will look for places where differences are greater than 0.0002 (for some reason, differences = to 0.0001 get flagged even with <=)"
   ]
  },
  {
   "cell_type": "code",
   "execution_count": 537,
   "metadata": {},
   "outputs": [
    {
     "data": {
      "text/html": [
       "<div>\n",
       "<style scoped>\n",
       "    .dataframe tbody tr th:only-of-type {\n",
       "        vertical-align: middle;\n",
       "    }\n",
       "\n",
       "    .dataframe tbody tr th {\n",
       "        vertical-align: top;\n",
       "    }\n",
       "\n",
       "    .dataframe thead th {\n",
       "        text-align: right;\n",
       "    }\n",
       "</style>\n",
       "<table border=\"1\" class=\"dataframe\">\n",
       "  <thead>\n",
       "    <tr style=\"text-align: right;\">\n",
       "      <th></th>\n",
       "      <th>LOS_diff</th>\n",
       "      <th>OUTTIME</th>\n",
       "    </tr>\n",
       "  </thead>\n",
       "  <tbody>\n",
       "    <tr>\n",
       "      <td>1033</td>\n",
       "      <td>NaN</td>\n",
       "      <td>NaT</td>\n",
       "    </tr>\n",
       "    <tr>\n",
       "      <td>6451</td>\n",
       "      <td>NaN</td>\n",
       "      <td>NaT</td>\n",
       "    </tr>\n",
       "    <tr>\n",
       "      <td>10165</td>\n",
       "      <td>NaN</td>\n",
       "      <td>NaT</td>\n",
       "    </tr>\n",
       "    <tr>\n",
       "      <td>10507</td>\n",
       "      <td>NaN</td>\n",
       "      <td>NaT</td>\n",
       "    </tr>\n",
       "    <tr>\n",
       "      <td>13080</td>\n",
       "      <td>NaN</td>\n",
       "      <td>NaT</td>\n",
       "    </tr>\n",
       "    <tr>\n",
       "      <td>15156</td>\n",
       "      <td>NaN</td>\n",
       "      <td>NaT</td>\n",
       "    </tr>\n",
       "    <tr>\n",
       "      <td>17759</td>\n",
       "      <td>NaN</td>\n",
       "      <td>NaT</td>\n",
       "    </tr>\n",
       "    <tr>\n",
       "      <td>18442</td>\n",
       "      <td>NaN</td>\n",
       "      <td>NaT</td>\n",
       "    </tr>\n",
       "    <tr>\n",
       "      <td>27840</td>\n",
       "      <td>NaN</td>\n",
       "      <td>NaT</td>\n",
       "    </tr>\n",
       "    <tr>\n",
       "      <td>29117</td>\n",
       "      <td>NaN</td>\n",
       "      <td>NaT</td>\n",
       "    </tr>\n",
       "  </tbody>\n",
       "</table>\n",
       "</div>"
      ],
      "text/plain": [
       "       LOS_diff OUTTIME\n",
       "1033        NaN     NaT\n",
       "6451        NaN     NaT\n",
       "10165       NaN     NaT\n",
       "10507       NaN     NaT\n",
       "13080       NaN     NaT\n",
       "15156       NaN     NaT\n",
       "17759       NaN     NaT\n",
       "18442       NaN     NaT\n",
       "27840       NaN     NaT\n",
       "29117       NaN     NaT"
      ]
     },
     "execution_count": 537,
     "metadata": {},
     "output_type": "execute_result"
    }
   ],
   "source": [
    "df_icu['LOS_equals'] = np.where(abs(df_icu.los_check-df_icu.LOS_rounded)<=0.0002, 1, 0)\n",
    "\n",
    "df_icu.loc[df_icu['LOS_equals'] == 0][['LOS_diff','OUTTIME']]"
   ]
  },
  {
   "cell_type": "markdown",
   "metadata": {},
   "source": [
    "so it turns out the only rows that are causing this is due to NaT in the OUTTIME and having a NaN in the LOS. Good, because we want to remove these anyway! Let's go ahead and remove any rows that have NaT for INTIME, OUTTIME, and LOS."
   ]
  },
  {
   "cell_type": "code",
   "execution_count": 538,
   "metadata": {},
   "outputs": [],
   "source": [
    "df_icu.dropna(subset = [\"LOS\"], inplace=True)\n",
    "df_icu.dropna(subset = [\"INTIME\"], inplace=True)\n",
    "df_icu.dropna(subset = [\"OUTTIME\"], inplace=True)"
   ]
  },
  {
   "cell_type": "code",
   "execution_count": 539,
   "metadata": {},
   "outputs": [
    {
     "data": {
      "text/plain": [
       "61522"
      ]
     },
     "execution_count": 539,
     "metadata": {},
     "output_type": "execute_result"
    }
   ],
   "source": [
    "len(df_icu)"
   ]
  },
  {
   "cell_type": "markdown",
   "metadata": {},
   "source": [
    "looks like 10 cases had LOS=NaN (there weren't any more that had INTIME = NaT or OUTTIME = NaT)"
   ]
  },
  {
   "cell_type": "code",
   "execution_count": 540,
   "metadata": {},
   "outputs": [],
   "source": [
    "# take out the columns I want to keep\n",
    "df_icu = df_icu[[\"SUBJECT_ID\", \"HADM_ID\",\"ICUSTAY_ID\",\"LOS\", \"OUTTIME\"]]"
   ]
  },
  {
   "cell_type": "code",
   "execution_count": 541,
   "metadata": {},
   "outputs": [
    {
     "name": "stdout",
     "output_type": "stream",
     "text": [
      "max ICU stay: 173.072500\n",
      "min ICU stay: 0.000100\n"
     ]
    }
   ],
   "source": [
    "print('max ICU stay: %f' % max(df_icu.LOS))\n",
    "print('min ICU stay: %f' % min(df_icu.LOS))"
   ]
  },
  {
   "cell_type": "markdown",
   "metadata": {},
   "source": [
    "### ADMISSIONS DATA"
   ]
  },
  {
   "cell_type": "markdown",
   "metadata": {},
   "source": [
    "Use this for multiple admits - # of admissions can be used as a predictor\n",
    "\n",
    "I am avoiding using discharge location (for example, home) because that is something that would not be known for future patients until they are about to be discharged"
   ]
  },
  {
   "cell_type": "code",
   "execution_count": 542,
   "metadata": {},
   "outputs": [],
   "source": [
    "df_adm = pd.read_csv('data/Part1/ADMISSIONS.csv')"
   ]
  },
  {
   "cell_type": "code",
   "execution_count": 543,
   "metadata": {},
   "outputs": [
    {
     "data": {
      "text/plain": [
       "58976"
      ]
     },
     "execution_count": 543,
     "metadata": {},
     "output_type": "execute_result"
    }
   ],
   "source": [
    "len(df_adm)"
   ]
  },
  {
   "cell_type": "code",
   "execution_count": 544,
   "metadata": {},
   "outputs": [],
   "source": [
    "# convert format\n",
    "df_adm.ADMITTIME = pd.to_datetime(df_adm.ADMITTIME, format = '%Y-%m-%d %H:%M:%S', errors = 'coerce')\n",
    "df_adm.DISCHTIME = pd.to_datetime(df_adm.DISCHTIME, format = '%Y-%m-%d %H:%M:%S', errors = 'coerce')\n",
    "df_adm.DEATHTIME = pd.to_datetime(df_adm.DEATHTIME, format = '%Y-%m-%d %H:%M:%S', errors = 'coerce')"
   ]
  },
  {
   "cell_type": "code",
   "execution_count": 545,
   "metadata": {},
   "outputs": [],
   "source": [
    "# subset the columns I want to use\n",
    "df_adm = df_adm[['SUBJECT_ID','HADM_ID','ADMITTIME','DISCHTIME','DEATHTIME','ADMISSION_TYPE','ADMISSION_LOCATION','ETHNICITY','INSURANCE']]"
   ]
  },
  {
   "cell_type": "code",
   "execution_count": 546,
   "metadata": {},
   "outputs": [
    {
     "data": {
      "text/plain": [
       "array(['WHITE', 'UNKNOWN/NOT SPECIFIED', 'MULTI RACE ETHNICITY',\n",
       "       'BLACK/AFRICAN AMERICAN', 'HISPANIC OR LATINO',\n",
       "       'PATIENT DECLINED TO ANSWER', 'ASIAN', 'OTHER',\n",
       "       'HISPANIC/LATINO - GUATEMALAN', 'ASIAN - VIETNAMESE',\n",
       "       'AMERICAN INDIAN/ALASKA NATIVE', 'WHITE - RUSSIAN',\n",
       "       'HISPANIC/LATINO - PUERTO RICAN', 'ASIAN - CHINESE',\n",
       "       'ASIAN - ASIAN INDIAN', 'BLACK/AFRICAN',\n",
       "       'HISPANIC/LATINO - SALVADORAN', 'HISPANIC/LATINO - DOMINICAN',\n",
       "       'UNABLE TO OBTAIN', 'BLACK/CAPE VERDEAN', 'BLACK/HAITIAN',\n",
       "       'WHITE - OTHER EUROPEAN', 'PORTUGUESE', 'SOUTH AMERICAN',\n",
       "       'WHITE - EASTERN EUROPEAN', 'CARIBBEAN ISLAND', 'ASIAN - FILIPINO',\n",
       "       'ASIAN - CAMBODIAN', 'HISPANIC/LATINO - CENTRAL AMERICAN (OTHER)',\n",
       "       'WHITE - BRAZILIAN', 'ASIAN - KOREAN',\n",
       "       'HISPANIC/LATINO - COLOMBIAN', 'ASIAN - JAPANESE',\n",
       "       'NATIVE HAWAIIAN OR OTHER PACIFIC ISLANDER', 'ASIAN - THAI',\n",
       "       'HISPANIC/LATINO - HONDURAN', 'HISPANIC/LATINO - CUBAN',\n",
       "       'MIDDLE EASTERN', 'ASIAN - OTHER', 'HISPANIC/LATINO - MEXICAN',\n",
       "       'AMERICAN INDIAN/ALASKA NATIVE FEDERALLY RECOGNIZED TRIBE'],\n",
       "      dtype=object)"
      ]
     },
     "execution_count": 546,
     "metadata": {},
     "output_type": "execute_result"
    }
   ],
   "source": [
    "df_adm['ETHNICITY'].unique()"
   ]
  },
  {
   "cell_type": "code",
   "execution_count": 547,
   "metadata": {},
   "outputs": [],
   "source": [
    "# convert ethnicity to fewer categories\n",
    "df_adm['ETHNICITY_WHITE'] = df_adm['ETHNICITY'].str.contains('WHITE', case=True, regex=False).astype(int)\n",
    "df_adm['ETHNICITY_BLACK'] = df_adm['ETHNICITY'].str.contains('BLACK', case=True, regex=False).astype(int)\n",
    "df_adm['ETHNICITY_HISPANIC/LATINO'] = df_adm['ETHNICITY'].str.contains('HISPANIC', case=True, regex=False).astype(int)\n",
    "df_adm['ETHNICITY_ASIAN'] = df_adm['ETHNICITY'].str.contains('ASIAN', case=True, regex=False).astype(int)\n",
    "df_adm['ETHNICITY_NATIVE'] = df_adm['ETHNICITY'].str.contains('NATIVE', case=True, regex=False).astype(int)"
   ]
  },
  {
   "cell_type": "code",
   "execution_count": 548,
   "metadata": {},
   "outputs": [],
   "source": [
    "df_adm = df_adm.drop(columns=['ETHNICITY'])"
   ]
  },
  {
   "cell_type": "markdown",
   "metadata": {},
   "source": [
    "Count the admission number for each partient"
   ]
  },
  {
   "cell_type": "code",
   "execution_count": 549,
   "metadata": {},
   "outputs": [],
   "source": [
    "df_adm['ADMISSION_NUM'] = df_adm.groupby(['SUBJECT_ID']).cumcount()+1"
   ]
  },
  {
   "cell_type": "markdown",
   "metadata": {},
   "source": [
    "The admissions dataset is substantially smaller than the ICU Stays data... this could be due to multiple ICU stays in a single admission. \n",
    "Let's go ahead and merge on hospital admission ID"
   ]
  },
  {
   "cell_type": "code",
   "execution_count": 550,
   "metadata": {},
   "outputs": [
    {
     "data": {
      "text/plain": [
       "61522"
      ]
     },
     "execution_count": 550,
     "metadata": {},
     "output_type": "execute_result"
    }
   ],
   "source": [
    "df_joined = df_icu.merge(df_adm,  how = 'inner', on = ['HADM_ID','SUBJECT_ID'])\n",
    "len(df_joined)"
   ]
  },
  {
   "cell_type": "code",
   "execution_count": 551,
   "metadata": {},
   "outputs": [
    {
     "name": "stdout",
     "output_type": "stream",
     "text": [
      "# of unique subjects in admissions data: 46520\n",
      "# of unique subjects in ICU/admissions joined data: 46467 \n",
      "# of subjects who have died: 6608\n"
     ]
    }
   ],
   "source": [
    "# show number of unique subjects... shows that there are some subjects in admissions that are not in df_icu\n",
    "print('# of unique subjects in admissions data: %i' % df_adm['SUBJECT_ID'].nunique())\n",
    "print('# of unique subjects in ICU/admissions joined data: %i '% df_joined['SUBJECT_ID'].nunique())\n",
    "\n",
    "# count number of entries with deathtime not NaN, to be dropped later\n",
    "print('# of subjects who have died: %i' % df_joined['DEATHTIME'].count())"
   ]
  },
  {
   "cell_type": "markdown",
   "metadata": {},
   "source": [
    "### PATIENTS DATA\n",
    "\n",
    "Get demographic variables: age, gender, death in ICU"
   ]
  },
  {
   "cell_type": "code",
   "execution_count": 552,
   "metadata": {},
   "outputs": [],
   "source": [
    "df_demographics = pd.read_csv('data/Part1/PATIENTS.csv')"
   ]
  },
  {
   "cell_type": "code",
   "execution_count": 553,
   "metadata": {},
   "outputs": [
    {
     "name": "stdout",
     "output_type": "stream",
     "text": [
      "46520\n"
     ]
    }
   ],
   "source": [
    "# let's go ahead and convert DOB and DOD to the same date time format as the admissions data\n",
    "df_demographics.DOB = pd.to_datetime(df_demographics.DOB, format = '%Y-%m-%d %H:%M:%S', errors='coerce')\n",
    "df_demographics.DOD_HOSP = pd.to_datetime(df_demographics.DOD_HOSP, format = '%Y-%m-%d %H:%M:%S', errors = 'coerce')\n",
    "df_demographics.DOD = pd.to_datetime(df_demographics.DOD, format = '%Y-%m-%d %H:%M:%S', errors='coerce')\n",
    "df_demographics.DOD_SSN = pd.to_datetime(df_demographics.DOD_SSN, format = '%Y-%m-%d %H:%M:%S', errors='coerce')\n",
    "\n",
    "print(len(df_demographics))"
   ]
  },
  {
   "cell_type": "markdown",
   "metadata": {},
   "source": [
    "so it looks like there are a few more patients in here than in the ICU data (46,467), but same as admissions data"
   ]
  },
  {
   "cell_type": "markdown",
   "metadata": {},
   "source": [
    "__Dealing with deceased patients__"
   ]
  },
  {
   "cell_type": "code",
   "execution_count": 554,
   "metadata": {},
   "outputs": [
    {
     "name": "stdout",
     "output_type": "stream",
     "text": [
      "15759\n",
      "9974\n"
     ]
    }
   ],
   "source": [
    "print(df_demographics['DOD'].count())\n",
    "print(df_demographics['DOD_HOSP'].count())"
   ]
  },
  {
   "cell_type": "markdown",
   "metadata": {},
   "source": [
    "There's a lot more patients who are recorded as dead [DOD] than those who have a DOD_HOSP entry. We will take into account DOD_HOSP because these are the deaths recorded from the hospital--we only want to omit the patients who died during their hospital stay, not all patients who have died. \n",
    "\n",
    "Also note, there's a lot more patients recorded as dead here than in the admissions data (6608)... "
   ]
  },
  {
   "cell_type": "code",
   "execution_count": 555,
   "metadata": {},
   "outputs": [],
   "source": [
    "# subset the columns I want to use - I'm only going to use DOD_HOSP to omit the patients who actually died during their stay at the hospital\n",
    "df_demographics = df_demographics[['SUBJECT_ID','GENDER','DOB','DOD_HOSP']]"
   ]
  },
  {
   "cell_type": "code",
   "execution_count": 556,
   "metadata": {},
   "outputs": [
    {
     "data": {
      "text/plain": [
       "16213"
      ]
     },
     "execution_count": 556,
     "metadata": {},
     "output_type": "execute_result"
    }
   ],
   "source": [
    "df_joined = df_joined.merge(df_demographics,  how = 'inner', on = ['SUBJECT_ID'])\n",
    "\n",
    "df_joined['DOD_HOSP'].count()"
   ]
  },
  {
   "cell_type": "markdown",
   "metadata": {},
   "source": [
    "DOD_HOSP count is much higher in df_joined than in just df_demographics because there are repeats of the same patients! \n",
    "We only want to remove an entry if the specific ICU admission resulted in death, not if a patient evenetually died in one of their subsequent hospital visits.\n",
    "\n",
    "We will do this by getting the last ICU stay for each admission, and of these, removing the ICU stay row where the patient has died. "
   ]
  },
  {
   "cell_type": "code",
   "execution_count": 557,
   "metadata": {},
   "outputs": [],
   "source": [
    "# Count ICU stay number for each admission (ICUSTAY_NUM) and the total number of ICU stays\n",
    "df_joined['TOTAL_ICUSTAYS'] = df_joined.groupby(['SUBJECT_ID']).cumcount()+1\n",
    "df_joined['ICUSTAY_NUM'] = df_joined.groupby(['SUBJECT_ID','HADM_ID']).cumcount()+1"
   ]
  },
  {
   "cell_type": "code",
   "execution_count": 558,
   "metadata": {},
   "outputs": [],
   "source": [
    "# get the last ICU stay for each person by shifting and getting rows where next row is null\n",
    "df_joined['NEXT_ICUSTAY'] = df_joined.groupby('SUBJECT_ID').ICUSTAY_ID.shift(-1)\n",
    "df_lastStay = df_joined[df_joined['NEXT_ICUSTAY'].isnull()]"
   ]
  },
  {
   "cell_type": "code",
   "execution_count": 559,
   "metadata": {},
   "outputs": [
    {
     "name": "stdout",
     "output_type": "stream",
     "text": [
      "5797\n",
      "9958\n"
     ]
    }
   ],
   "source": [
    "# seems to be a discrepancy between DOD_HOSP (date of death in hospital) and deathtime\n",
    "print(df_lastStay['DEATHTIME'].count())\n",
    "print(df_lastStay['DOD_HOSP'].count())"
   ]
  },
  {
   "cell_type": "code",
   "execution_count": 560,
   "metadata": {},
   "outputs": [
    {
     "data": {
      "text/html": [
       "<div>\n",
       "<style scoped>\n",
       "    .dataframe tbody tr th:only-of-type {\n",
       "        vertical-align: middle;\n",
       "    }\n",
       "\n",
       "    .dataframe tbody tr th {\n",
       "        vertical-align: top;\n",
       "    }\n",
       "\n",
       "    .dataframe thead th {\n",
       "        text-align: right;\n",
       "    }\n",
       "</style>\n",
       "<table border=\"1\" class=\"dataframe\">\n",
       "  <thead>\n",
       "    <tr style=\"text-align: right;\">\n",
       "      <th></th>\n",
       "      <th>SUBJECT_ID</th>\n",
       "      <th>HADM_ID</th>\n",
       "      <th>ICUSTAY_ID</th>\n",
       "      <th>LOS</th>\n",
       "      <th>OUTTIME</th>\n",
       "      <th>ADMITTIME</th>\n",
       "      <th>DISCHTIME</th>\n",
       "      <th>DEATHTIME</th>\n",
       "      <th>ADMISSION_TYPE</th>\n",
       "      <th>ADMISSION_LOCATION</th>\n",
       "      <th>...</th>\n",
       "      <th>ETHNICITY_ASIAN</th>\n",
       "      <th>ETHNICITY_NATIVE</th>\n",
       "      <th>ADMISSION_NUM</th>\n",
       "      <th>GENDER</th>\n",
       "      <th>DOB</th>\n",
       "      <th>DOD_HOSP</th>\n",
       "      <th>TOTAL_ICUSTAYS</th>\n",
       "      <th>ICUSTAY_NUM</th>\n",
       "      <th>NEXT_ICUSTAY</th>\n",
       "      <th>OUTDATE</th>\n",
       "    </tr>\n",
       "  </thead>\n",
       "  <tbody>\n",
       "  </tbody>\n",
       "</table>\n",
       "<p>0 rows × 24 columns</p>\n",
       "</div>"
      ],
      "text/plain": [
       "Empty DataFrame\n",
       "Columns: [SUBJECT_ID, HADM_ID, ICUSTAY_ID, LOS, OUTTIME, ADMITTIME, DISCHTIME, DEATHTIME, ADMISSION_TYPE, ADMISSION_LOCATION, INSURANCE, ETHNICITY_WHITE, ETHNICITY_BLACK, ETHNICITY_HISPANIC/LATINO, ETHNICITY_ASIAN, ETHNICITY_NATIVE, ADMISSION_NUM, GENDER, DOB, DOD_HOSP, TOTAL_ICUSTAYS, ICUSTAY_NUM, NEXT_ICUSTAY, OUTDATE]\n",
       "Index: []\n",
       "\n",
       "[0 rows x 24 columns]"
      ]
     },
     "execution_count": 560,
     "metadata": {},
     "output_type": "execute_result"
    }
   ],
   "source": [
    "df_discrep.head(0)"
   ]
  },
  {
   "cell_type": "code",
   "execution_count": 561,
   "metadata": {},
   "outputs": [],
   "source": [
    "df_discrep = df_lastStay[df_lastStay['DEATHTIME'].isnull() & df_lastStay['DOD_HOSP'].notnull()]"
   ]
  },
  {
   "cell_type": "markdown",
   "metadata": {},
   "source": [
    "check to see if DOD_HOSP is the same as the ICU discharge date (OUTTIME) to make sure that we aren't missing any ICU stays that resulted in death. Not using dischtime since that is the discharge from the hospital stay and not discharge from ICU stay"
   ]
  },
  {
   "cell_type": "code",
   "execution_count": 562,
   "metadata": {},
   "outputs": [
    {
     "data": {
      "text/plain": [
       "Index(['SUBJECT_ID', 'HADM_ID', 'ICUSTAY_ID', 'LOS', 'OUTTIME', 'ADMITTIME',\n",
       "       'DISCHTIME', 'DEATHTIME', 'ADMISSION_TYPE', 'ADMISSION_LOCATION',\n",
       "       'INSURANCE', 'ETHNICITY_WHITE', 'ETHNICITY_BLACK',\n",
       "       'ETHNICITY_HISPANIC/LATINO', 'ETHNICITY_ASIAN', 'ETHNICITY_NATIVE',\n",
       "       'ADMISSION_NUM', 'GENDER', 'DOB', 'DOD_HOSP', 'TOTAL_ICUSTAYS',\n",
       "       'ICUSTAY_NUM', 'NEXT_ICUSTAY'],\n",
       "      dtype='object')"
      ]
     },
     "execution_count": 562,
     "metadata": {},
     "output_type": "execute_result"
    }
   ],
   "source": [
    "df_discrep.columns"
   ]
  },
  {
   "cell_type": "code",
   "execution_count": 563,
   "metadata": {
    "scrolled": true
   },
   "outputs": [
    {
     "data": {
      "text/plain": [
       "6       2114-07-07 18:01:16\n",
       "21      2167-06-03 17:47:16\n",
       "26      2107-09-14 18:34:48\n",
       "29      2118-01-20 11:12:45\n",
       "36      2189-11-13 22:11:28\n",
       "                ...        \n",
       "61359   2142-11-14 21:04:45\n",
       "61386   2114-09-15 15:44:51\n",
       "61482   2133-10-22 15:47:56\n",
       "61488   2176-09-06 15:18:59\n",
       "61509   2134-03-12 12:14:42\n",
       "Name: OUTTIME, Length: 4161, dtype: datetime64[ns]"
      ]
     },
     "execution_count": 563,
     "metadata": {},
     "output_type": "execute_result"
    }
   ],
   "source": [
    "df_discrep['OUTTIME']"
   ]
  },
  {
   "cell_type": "code",
   "execution_count": 564,
   "metadata": {
    "scrolled": false
   },
   "outputs": [],
   "source": [
    "# get just the date (not time) of ICU discharge time\n",
    "df_discrep = df_discrep.copy()\n",
    "df_discrep['OUTDATE'] =  df_discrep['OUTTIME'].dt.date\n",
    "df_discrep['OUTDATE'] = pd.to_datetime(df_discrep.OUTDATE, format = '%Y-%m-%d %H:%M:%S', errors='coerce')"
   ]
  },
  {
   "cell_type": "code",
   "execution_count": 565,
   "metadata": {},
   "outputs": [
    {
     "data": {
      "text/plain": [
       "6       2114-07-07\n",
       "21      2167-06-03\n",
       "26      2107-09-14\n",
       "29      2118-01-20\n",
       "36      2189-11-13\n",
       "           ...    \n",
       "61359   2142-11-14\n",
       "61386   2114-09-15\n",
       "61482   2133-10-22\n",
       "61488   2176-09-06\n",
       "61509   2134-03-12\n",
       "Name: OUTDATE, Length: 4161, dtype: datetime64[ns]"
      ]
     },
     "execution_count": 565,
     "metadata": {},
     "output_type": "execute_result"
    }
   ],
   "source": [
    "df_discrep['OUTDATE']"
   ]
  },
  {
   "cell_type": "code",
   "execution_count": 566,
   "metadata": {},
   "outputs": [],
   "source": [
    "# for patients who died on the same day they were discharged from ICU,\n",
    "# reset DEATHTIME to the ICU disch time since it was null before\n",
    "df = df_discrep[df_discrep['OUTDATE'] == df_discrep['DOD_HOSP']]\n",
    "df.loc[:,'DEATHTIME'] = df_discrep['OUTDATE']"
   ]
  },
  {
   "cell_type": "code",
   "execution_count": 567,
   "metadata": {
    "scrolled": true
   },
   "outputs": [],
   "source": [
    "# update 'deathtime' in df_lastStay\n",
    "indices=df.index\n",
    "deathtimes = pd.Series(df['DEATHTIME'], index=indices)\n",
    "df_lastStay.update(deathtimes, overwrite = True)"
   ]
  },
  {
   "cell_type": "code",
   "execution_count": 568,
   "metadata": {},
   "outputs": [],
   "source": [
    "# now, remove the ICU stays that ended in death from df_joined \n",
    "ICUDeaths = df_lastStay[df_lastStay['DEATHTIME'].notnull()]['ICUSTAY_ID']\n",
    "df_merged = pd.merge(df_joined, ICUDeaths, how='outer', on = 'ICUSTAY_ID',indicator=True)"
   ]
  },
  {
   "cell_type": "code",
   "execution_count": 569,
   "metadata": {},
   "outputs": [],
   "source": [
    "# keep only the ones that were \"left only\" - meaning they did not die in the ICU\n",
    "df_joined = df_merged.loc[df_merged._merge == 'left_only']"
   ]
  },
  {
   "cell_type": "code",
   "execution_count": 570,
   "metadata": {},
   "outputs": [
    {
     "data": {
      "text/html": [
       "<div>\n",
       "<style scoped>\n",
       "    .dataframe tbody tr th:only-of-type {\n",
       "        vertical-align: middle;\n",
       "    }\n",
       "\n",
       "    .dataframe tbody tr th {\n",
       "        vertical-align: top;\n",
       "    }\n",
       "\n",
       "    .dataframe thead th {\n",
       "        text-align: right;\n",
       "    }\n",
       "</style>\n",
       "<table border=\"1\" class=\"dataframe\">\n",
       "  <thead>\n",
       "    <tr style=\"text-align: right;\">\n",
       "      <th></th>\n",
       "      <th>SUBJECT_ID</th>\n",
       "      <th>HADM_ID</th>\n",
       "      <th>ICUSTAY_ID</th>\n",
       "      <th>LOS</th>\n",
       "      <th>OUTTIME</th>\n",
       "      <th>ADMITTIME</th>\n",
       "      <th>DISCHTIME</th>\n",
       "      <th>DEATHTIME</th>\n",
       "      <th>ADMISSION_TYPE</th>\n",
       "      <th>ADMISSION_LOCATION</th>\n",
       "      <th>...</th>\n",
       "      <th>ETHNICITY_ASIAN</th>\n",
       "      <th>ETHNICITY_NATIVE</th>\n",
       "      <th>ADMISSION_NUM</th>\n",
       "      <th>GENDER</th>\n",
       "      <th>DOB</th>\n",
       "      <th>DOD_HOSP</th>\n",
       "      <th>TOTAL_ICUSTAYS</th>\n",
       "      <th>ICUSTAY_NUM</th>\n",
       "      <th>NEXT_ICUSTAY</th>\n",
       "      <th>_merge</th>\n",
       "    </tr>\n",
       "  </thead>\n",
       "  <tbody>\n",
       "  </tbody>\n",
       "</table>\n",
       "<p>0 rows × 24 columns</p>\n",
       "</div>"
      ],
      "text/plain": [
       "Empty DataFrame\n",
       "Columns: [SUBJECT_ID, HADM_ID, ICUSTAY_ID, LOS, OUTTIME, ADMITTIME, DISCHTIME, DEATHTIME, ADMISSION_TYPE, ADMISSION_LOCATION, INSURANCE, ETHNICITY_WHITE, ETHNICITY_BLACK, ETHNICITY_HISPANIC/LATINO, ETHNICITY_ASIAN, ETHNICITY_NATIVE, ADMISSION_NUM, GENDER, DOB, DOD_HOSP, TOTAL_ICUSTAYS, ICUSTAY_NUM, NEXT_ICUSTAY, _merge]\n",
       "Index: []\n",
       "\n",
       "[0 rows x 24 columns]"
      ]
     },
     "execution_count": 570,
     "metadata": {},
     "output_type": "execute_result"
    }
   ],
   "source": [
    "# check that if patient died, this was not their last ICU stay\n",
    "df_joined[df_joined['DEATHTIME'].notnull() & df_joined['NEXT_ICUSTAY'].isnull()]"
   ]
  },
  {
   "cell_type": "markdown",
   "metadata": {},
   "source": [
    "now calculate age at admission and drop those who are over 80 and under 18"
   ]
  },
  {
   "cell_type": "code",
   "execution_count": 571,
   "metadata": {},
   "outputs": [],
   "source": [
    "df_joined = df_joined.copy()\n",
    "df_joined['AGE'] = df_joined.ADMITTIME.dt.year - df_joined.DOB.dt.year\n",
    "df_joined[df_joined['AGE']>100]\n",
    "df_joined = df_joined[df_joined.AGE<300]\n",
    "df_joined = df_joined[df_joined['AGE']>17]"
   ]
  },
  {
   "cell_type": "code",
   "execution_count": 572,
   "metadata": {},
   "outputs": [],
   "source": [
    "# now remove columns we don't need\n",
    "df_joined = df_joined.drop(['_merge', 'NEXT_ICUSTAY', 'DOD_HOSP','DOB','TOTAL_ICUSTAYS','DEATHTIME','ADMITTIME','DISCHTIME','OUTTIME',], axis=1)"
   ]
  },
  {
   "cell_type": "markdown",
   "metadata": {},
   "source": [
    "Ok, by this point we have:\n",
    "- removed ICU stays only if patients died during that stay (or on the day of ICU discharge)\n",
    "- calculated age at admission, removing patients who are over 80 (300)\n",
    "- verified LOS is correct\n",
    "- calculated which admission # and ICU stay # each stay was\n",
    "- cleaned through the ICUSTAYS, ADMISSIONS, PATIENTS datasets"
   ]
  },
  {
   "cell_type": "markdown",
   "metadata": {},
   "source": [
    "### DIAGNOSIS\n",
    "\n",
    "The diagnosis each person has is probably also useful information - certain diagnoses are much more complex than others. But many people will also have more than 1 single diagnosis. This could also be useful information if they have comorbidities."
   ]
  },
  {
   "cell_type": "code",
   "execution_count": 573,
   "metadata": {},
   "outputs": [],
   "source": [
    "df_diagnoses = pd.read_csv('data/Part1/DIAGNOSES_ICD.csv')"
   ]
  },
  {
   "cell_type": "code",
   "execution_count": 574,
   "metadata": {},
   "outputs": [
    {
     "data": {
      "text/plain": [
       "6985"
      ]
     },
     "execution_count": 574,
     "metadata": {},
     "output_type": "execute_result"
    }
   ],
   "source": [
    "# check number of unique ICD9 codes\n",
    "len(df_diagnoses.ICD9_CODE.unique())"
   ]
  },
  {
   "cell_type": "markdown",
   "metadata": {},
   "source": [
    "* ICD-9 codes can apparently be classified though, so this may be worth doing! https://en.wikipedia.org/wiki/List_of_ICD-9_codes\n",
    "\n",
    "Take only the first 3 digits and categorize them. "
   ]
  },
  {
   "cell_type": "code",
   "execution_count": 575,
   "metadata": {},
   "outputs": [],
   "source": [
    "df_diagnoses['TRUNCATED_CODE'] = df_diagnoses['ICD9_CODE'].astype(str).str[0:3]\n",
    "df_diagnoses['TRUNCATED_CODE'] = pd.to_numeric(df_diagnoses['TRUNCATED_CODE'], errors = 'coerce')"
   ]
  },
  {
   "cell_type": "code",
   "execution_count": 576,
   "metadata": {},
   "outputs": [],
   "source": [
    "bins = [0,1,139,239,279,289,319,389,459,519,579,629,679,709,739,759,779,799,999]\n",
    "bin_labels=[\"18\",\"1\", \"2\", \"3\",\"4\",\"5\",\"6\",\"7\",\"8\",\"9\",\"10\",\"11\",\"12\",\"13\",\"14\",\"15\",\"16\",\"17\"]"
   ]
  },
  {
   "cell_type": "code",
   "execution_count": 577,
   "metadata": {},
   "outputs": [],
   "source": [
    "df_diagnoses['ICD_BINS'] = pd.cut(df_diagnoses['TRUNCATED_CODE'], bins,labels=bin_labels)\n",
    "df_diagnoses.loc[(df_diagnoses.ICD9_CODE.str[0][:, None] == ['V', 'E']).any(1),'ICD_BINS'] = '18'"
   ]
  },
  {
   "cell_type": "code",
   "execution_count": 578,
   "metadata": {},
   "outputs": [
    {
     "data": {
      "text/html": [
       "<div>\n",
       "<style scoped>\n",
       "    .dataframe tbody tr th:only-of-type {\n",
       "        vertical-align: middle;\n",
       "    }\n",
       "\n",
       "    .dataframe tbody tr th {\n",
       "        vertical-align: top;\n",
       "    }\n",
       "\n",
       "    .dataframe thead th {\n",
       "        text-align: right;\n",
       "    }\n",
       "</style>\n",
       "<table border=\"1\" class=\"dataframe\">\n",
       "  <thead>\n",
       "    <tr style=\"text-align: right;\">\n",
       "      <th></th>\n",
       "      <th>ROW_ID</th>\n",
       "      <th>SUBJECT_ID</th>\n",
       "      <th>HADM_ID</th>\n",
       "      <th>SEQ_NUM</th>\n",
       "      <th>ICD9_CODE</th>\n",
       "      <th>TRUNCATED_CODE</th>\n",
       "      <th>ICD_BINS</th>\n",
       "    </tr>\n",
       "  </thead>\n",
       "  <tbody>\n",
       "  </tbody>\n",
       "</table>\n",
       "</div>"
      ],
      "text/plain": [
       "Empty DataFrame\n",
       "Columns: [ROW_ID, SUBJECT_ID, HADM_ID, SEQ_NUM, ICD9_CODE, TRUNCATED_CODE, ICD_BINS]\n",
       "Index: []"
      ]
     },
     "execution_count": 578,
     "metadata": {},
     "output_type": "execute_result"
    }
   ],
   "source": [
    "df_diagnoses.head(0)"
   ]
  },
  {
   "cell_type": "markdown",
   "metadata": {},
   "source": [
    "So at this point, each row has one ICD9_CODE and corresponding ICD_BINS number"
   ]
  },
  {
   "cell_type": "code",
   "execution_count": 579,
   "metadata": {
    "scrolled": true
   },
   "outputs": [
    {
     "data": {
      "text/plain": [
       "<matplotlib.axes._subplots.AxesSubplot at 0x7f9097d8d090>"
      ]
     },
     "execution_count": 579,
     "metadata": {},
     "output_type": "execute_result"
    },
    {
     "data": {
      "image/png": "[encoded data removed]",
      "text/plain": [
       "<Figure size 432x288 with 1 Axes>"
      ]
     },
     "metadata": {
      "needs_background": "light"
     },
     "output_type": "display_data"
    }
   ],
   "source": [
    "df_diagnoses['ICD_BINS'].hist()"
   ]
  },
  {
   "cell_type": "code",
   "execution_count": 580,
   "metadata": {},
   "outputs": [
    {
     "data": {
      "text/plain": [
       "ROW_ID            47\n",
       "SUBJECT_ID        47\n",
       "HADM_ID           47\n",
       "SEQ_NUM            0\n",
       "ICD9_CODE          0\n",
       "TRUNCATED_CODE     0\n",
       "ICD_BINS           0\n",
       "dtype: int64"
      ]
     },
     "execution_count": 580,
     "metadata": {},
     "output_type": "execute_result"
    }
   ],
   "source": [
    "df_diagnoses[df_diagnoses['ICD_BINS'].isnull()].count()"
   ]
  },
  {
   "cell_type": "markdown",
   "metadata": {},
   "source": [
    "Account for multiple diagnoses per person by converting ICD_bins into multiple dummy variables and then grouping by HADM_ID, going from long to wide format"
   ]
  },
  {
   "cell_type": "code",
   "execution_count": 581,
   "metadata": {},
   "outputs": [],
   "source": [
    "df_diagnoses = pd.get_dummies(df_diagnoses, columns=['ICD_BINS'])"
   ]
  },
  {
   "cell_type": "code",
   "execution_count": 582,
   "metadata": {},
   "outputs": [
    {
     "data": {
      "text/html": [
       "<div>\n",
       "<style scoped>\n",
       "    .dataframe tbody tr th:only-of-type {\n",
       "        vertical-align: middle;\n",
       "    }\n",
       "\n",
       "    .dataframe tbody tr th {\n",
       "        vertical-align: top;\n",
       "    }\n",
       "\n",
       "    .dataframe thead th {\n",
       "        text-align: right;\n",
       "    }\n",
       "</style>\n",
       "<table border=\"1\" class=\"dataframe\">\n",
       "  <thead>\n",
       "    <tr style=\"text-align: right;\">\n",
       "      <th></th>\n",
       "      <th>ROW_ID</th>\n",
       "      <th>SUBJECT_ID</th>\n",
       "      <th>HADM_ID</th>\n",
       "      <th>SEQ_NUM</th>\n",
       "      <th>ICD9_CODE</th>\n",
       "      <th>TRUNCATED_CODE</th>\n",
       "      <th>ICD_BINS_18</th>\n",
       "      <th>ICD_BINS_1</th>\n",
       "      <th>ICD_BINS_2</th>\n",
       "      <th>ICD_BINS_3</th>\n",
       "      <th>...</th>\n",
       "      <th>ICD_BINS_8</th>\n",
       "      <th>ICD_BINS_9</th>\n",
       "      <th>ICD_BINS_10</th>\n",
       "      <th>ICD_BINS_11</th>\n",
       "      <th>ICD_BINS_12</th>\n",
       "      <th>ICD_BINS_13</th>\n",
       "      <th>ICD_BINS_14</th>\n",
       "      <th>ICD_BINS_15</th>\n",
       "      <th>ICD_BINS_16</th>\n",
       "      <th>ICD_BINS_17</th>\n",
       "    </tr>\n",
       "  </thead>\n",
       "  <tbody>\n",
       "  </tbody>\n",
       "</table>\n",
       "<p>0 rows × 24 columns</p>\n",
       "</div>"
      ],
      "text/plain": [
       "Empty DataFrame\n",
       "Columns: [ROW_ID, SUBJECT_ID, HADM_ID, SEQ_NUM, ICD9_CODE, TRUNCATED_CODE, ICD_BINS_18, ICD_BINS_1, ICD_BINS_2, ICD_BINS_3, ICD_BINS_4, ICD_BINS_5, ICD_BINS_6, ICD_BINS_7, ICD_BINS_8, ICD_BINS_9, ICD_BINS_10, ICD_BINS_11, ICD_BINS_12, ICD_BINS_13, ICD_BINS_14, ICD_BINS_15, ICD_BINS_16, ICD_BINS_17]\n",
       "Index: []\n",
       "\n",
       "[0 rows x 24 columns]"
      ]
     },
     "execution_count": 582,
     "metadata": {},
     "output_type": "execute_result"
    }
   ],
   "source": [
    "df_diagnoses.head(0)"
   ]
  },
  {
   "cell_type": "code",
   "execution_count": 583,
   "metadata": {},
   "outputs": [],
   "source": [
    "a=df_diagnoses.groupby(\"HADM_ID\")"
   ]
  },
  {
   "cell_type": "code",
   "execution_count": 584,
   "metadata": {},
   "outputs": [],
   "source": [
    "# group by Hospital admission ID, and for each column of ICD_bins, look for max, \n",
    "# which would be 1 if there was a diagnosis, within the grouping\n",
    "\n",
    "def f(x):\n",
    "    d = {}\n",
    "    d = x.filter(regex=(\"ICD_BINS*\")).max()\n",
    "    \n",
    "    return pd.Series(d)\n",
    "\n",
    "df_diagnoses = df_diagnoses.groupby('HADM_ID').apply(f)\n",
    "df_diagnoses.reset_index(inplace=True)"
   ]
  },
  {
   "cell_type": "code",
   "execution_count": 585,
   "metadata": {},
   "outputs": [
    {
     "data": {
      "text/plain": [
       "58976"
      ]
     },
     "execution_count": 585,
     "metadata": {},
     "output_type": "execute_result"
    }
   ],
   "source": [
    "len(df_diagnoses)"
   ]
  },
  {
   "cell_type": "code",
   "execution_count": 586,
   "metadata": {},
   "outputs": [],
   "source": [
    "df_joined = pd.merge(df_joined, df_diagnoses, how='inner', on = 'HADM_ID',indicator = False)"
   ]
  },
  {
   "cell_type": "code",
   "execution_count": 587,
   "metadata": {},
   "outputs": [],
   "source": [
    "assert len(df_joined) == df_joined['ICUSTAY_ID'].nunique()"
   ]
  },
  {
   "cell_type": "markdown",
   "metadata": {},
   "source": [
    "### LAB EVENTS\n",
    "\n",
    "There are a TON of different types of labs that can be taken, so I will go with the simpler approach here and simply use this as a binary: whether someone has at least one or more lab event labeled \"Abnormal\" or not for that admission"
   ]
  },
  {
   "cell_type": "code",
   "execution_count": 588,
   "metadata": {},
   "outputs": [],
   "source": [
    "df_labevents = pd.read_csv('data/Part1/LABEVENTS.csv')"
   ]
  },
  {
   "cell_type": "code",
   "execution_count": 589,
   "metadata": {},
   "outputs": [
    {
     "data": {
      "text/html": [
       "<div>\n",
       "<style scoped>\n",
       "    .dataframe tbody tr th:only-of-type {\n",
       "        vertical-align: middle;\n",
       "    }\n",
       "\n",
       "    .dataframe tbody tr th {\n",
       "        vertical-align: top;\n",
       "    }\n",
       "\n",
       "    .dataframe thead th {\n",
       "        text-align: right;\n",
       "    }\n",
       "</style>\n",
       "<table border=\"1\" class=\"dataframe\">\n",
       "  <thead>\n",
       "    <tr style=\"text-align: right;\">\n",
       "      <th></th>\n",
       "      <th>ROW_ID</th>\n",
       "      <th>SUBJECT_ID</th>\n",
       "      <th>HADM_ID</th>\n",
       "      <th>ITEMID</th>\n",
       "      <th>CHARTTIME</th>\n",
       "      <th>VALUE</th>\n",
       "      <th>VALUENUM</th>\n",
       "      <th>VALUEUOM</th>\n",
       "      <th>FLAG</th>\n",
       "    </tr>\n",
       "  </thead>\n",
       "  <tbody>\n",
       "  </tbody>\n",
       "</table>\n",
       "</div>"
      ],
      "text/plain": [
       "Empty DataFrame\n",
       "Columns: [ROW_ID, SUBJECT_ID, HADM_ID, ITEMID, CHARTTIME, VALUE, VALUENUM, VALUEUOM, FLAG]\n",
       "Index: []"
      ]
     },
     "execution_count": 589,
     "metadata": {},
     "output_type": "execute_result"
    }
   ],
   "source": [
    "df_labevents.head(0)"
   ]
  },
  {
   "cell_type": "code",
   "execution_count": 590,
   "metadata": {},
   "outputs": [
    {
     "data": {
      "text/plain": [
       "array(['abnormal', 'delta'], dtype=object)"
      ]
     },
     "execution_count": 590,
     "metadata": {},
     "output_type": "execute_result"
    }
   ],
   "source": [
    "# of the lab events that are not null, check what different types there are\n",
    "df_labevents[df_labevents['FLAG'].notnull()]['FLAG'].unique()"
   ]
  },
  {
   "cell_type": "code",
   "execution_count": 591,
   "metadata": {},
   "outputs": [],
   "source": [
    "# for abnormal events, craete new column with binary - 1 if abnormal event, 0 if none\n",
    "# then sum up the total number of abnormal events within a hospital admission\n",
    "df_labevents['ABNORMAL_EVENT'] = np.where(df_labevents['FLAG']=='abnormal', 1, 0)\n",
    "abnormal_events = df_labevents.groupby('HADM_ID')['ABNORMAL_EVENT'].sum()\n",
    "abnormal_events = abnormal_events.rename(\"ABNORMAL_EVENTS_TOTAL\")"
   ]
  },
  {
   "cell_type": "code",
   "execution_count": 592,
   "metadata": {},
   "outputs": [
    {
     "data": {
      "text/plain": [
       "58151"
      ]
     },
     "execution_count": 592,
     "metadata": {},
     "output_type": "execute_result"
    }
   ],
   "source": [
    "len(abnormal_events)"
   ]
  },
  {
   "cell_type": "code",
   "execution_count": 593,
   "metadata": {},
   "outputs": [],
   "source": [
    "df_joined = pd.merge(df_joined, abnormal_events, how = 'inner', on='HADM_ID',indicator = False)"
   ]
  },
  {
   "cell_type": "code",
   "execution_count": 594,
   "metadata": {},
   "outputs": [
    {
     "data": {
      "text/plain": [
       "Index(['SUBJECT_ID', 'HADM_ID', 'ICUSTAY_ID', 'LOS', 'ADMISSION_TYPE',\n",
       "       'ADMISSION_LOCATION', 'INSURANCE', 'ETHNICITY_WHITE', 'ETHNICITY_BLACK',\n",
       "       'ETHNICITY_HISPANIC/LATINO', 'ETHNICITY_ASIAN', 'ETHNICITY_NATIVE',\n",
       "       'ADMISSION_NUM', 'GENDER', 'ICUSTAY_NUM', 'AGE', 'ICD_BINS_18',\n",
       "       'ICD_BINS_1', 'ICD_BINS_2', 'ICD_BINS_3', 'ICD_BINS_4', 'ICD_BINS_5',\n",
       "       'ICD_BINS_6', 'ICD_BINS_7', 'ICD_BINS_8', 'ICD_BINS_9', 'ICD_BINS_10',\n",
       "       'ICD_BINS_11', 'ICD_BINS_12', 'ICD_BINS_13', 'ICD_BINS_14',\n",
       "       'ICD_BINS_15', 'ICD_BINS_16', 'ICD_BINS_17', 'ABNORMAL_EVENTS_TOTAL'],\n",
       "      dtype='object')"
      ]
     },
     "execution_count": 594,
     "metadata": {},
     "output_type": "execute_result"
    }
   ],
   "source": [
    "df_joined.columns"
   ]
  },
  {
   "cell_type": "code",
   "execution_count": 595,
   "metadata": {},
   "outputs": [
    {
     "data": {
      "text/plain": [
       "45054"
      ]
     },
     "execution_count": 595,
     "metadata": {},
     "output_type": "execute_result"
    }
   ],
   "source": [
    "len(df_joined)"
   ]
  },
  {
   "cell_type": "markdown",
   "metadata": {},
   "source": [
    "### EXPORT DATAFRAME"
   ]
  },
  {
   "cell_type": "code",
   "execution_count": 596,
   "metadata": {},
   "outputs": [],
   "source": [
    "df_joined.to_csv('data/ICU_combined.csv', index=False)"
   ]
  }
 ],
 "metadata": {
  "kernelspec": {
   "display_name": "Python 3",
   "language": "python",
   "name": "python3"
  },
  "language_info": {
   "codemirror_mode": {
    "name": "ipython",
    "version": 3
   },
   "file_extension": ".py",
   "mimetype": "text/x-python",
   "name": "python",
   "nbconvert_exporter": "python",
   "pygments_lexer": "ipython3",
   "version": "3.7.4"
  }
 },
 "nbformat": 4,
 "nbformat_minor": 2
}
