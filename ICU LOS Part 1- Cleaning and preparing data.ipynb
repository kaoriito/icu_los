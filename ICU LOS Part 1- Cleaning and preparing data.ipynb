{
 "cells": [
  {
   "cell_type": "code",
   "execution_count": 1,
   "metadata": {},
   "outputs": [],
   "source": [
    "import pandas as pd\n",
    "import numpy as np\n",
    "# import matplotlib.pyplot as plt\n",
    "import pandas.testing"
   ]
  },
  {
   "cell_type": "markdown",
   "metadata": {},
   "source": [
    "## 1. Read in and view data"
   ]
  },
  {
   "cell_type": "code",
   "execution_count": 13,
   "metadata": {},
   "outputs": [
    {
     "data": {
      "text/plain": [
       "61532"
      ]
     },
     "execution_count": 13,
     "metadata": {},
     "output_type": "execute_result"
    }
   ],
   "source": [
    "df_icu = pd.read_csv('data/Part1/ICUSTAYS.csv')\n",
    "len(df_icu)"
   ]
  },
  {
   "cell_type": "markdown",
   "metadata": {},
   "source": [
    "the main useful columns in the ICUSTAYS table to us are: SUBJECT_ID, HADM_ID, (possibly) ICUSTAY_ID, and LOS.\n",
    "\n",
    "I will also use INTIME and OUTTIME to make sure that the LOS is correct, especially since the database sources can be different"
   ]
  },
  {
   "cell_type": "code",
   "execution_count": 15,
   "metadata": {
    "scrolled": true
   },
   "outputs": [],
   "source": [
    "# convert date time format\n",
    "df_icu.OUTTIME = pd.to_datetime(df_icu.OUTTIME, format = '%Y-%m-%d %H:%M:%S', errors = 'coerce')\n",
    "df_icu.INTIME = pd.to_datetime(df_icu.INTIME, format = '%Y-%m-%d %H:%M:%S', errors = 'coerce')\n",
    "\n",
    "# recalculate LOS using difference between INTIME and OUTTIME to check the LOS column is correct\n",
    "los_check = (df_icu.OUTTIME - df_icu.INTIME).apply(lambda x: (x.total_seconds()/86400))\n",
    "\n",
    "# round both so they would match\n",
    "df_icu['los_check'] = los_check.round(4)\n",
    "df_icu['LOS_rounded'] = df_icu.LOS.round(4)\n"
   ]
  },
  {
   "cell_type": "code",
   "execution_count": null,
   "metadata": {},
   "outputs": [],
   "source": [
    "# check that my calculation of ICU LOS and the one given match:\n",
    "pandas.testing.assert_series_equal(df_icu.los_check, df_icu.LOS_rounded)"
   ]
  },
  {
   "cell_type": "markdown",
   "metadata": {},
   "source": [
    "so the LOS that is given is not always equal to the difference between outtime and intime - I will investigate this a bit further."
   ]
  },
  {
   "cell_type": "code",
   "execution_count": 30,
   "metadata": {},
   "outputs": [
    {
     "data": {
      "text/html": [
       "<div>\n",
       "<style scoped>\n",
       "    .dataframe tbody tr th:only-of-type {\n",
       "        vertical-align: middle;\n",
       "    }\n",
       "\n",
       "    .dataframe tbody tr th {\n",
       "        vertical-align: top;\n",
       "    }\n",
       "\n",
       "    .dataframe thead th {\n",
       "        text-align: right;\n",
       "    }\n",
       "</style>\n",
       "<table border=\"1\" class=\"dataframe\">\n",
       "  <thead>\n",
       "    <tr style=\"text-align: right;\">\n",
       "      <th></th>\n",
       "      <th>LOS_diff</th>\n",
       "    </tr>\n",
       "  </thead>\n",
       "  <tbody>\n",
       "    <tr>\n",
       "      <td>61</td>\n",
       "      <td>0.0001</td>\n",
       "    </tr>\n",
       "    <tr>\n",
       "      <td>869</td>\n",
       "      <td>0.0001</td>\n",
       "    </tr>\n",
       "    <tr>\n",
       "      <td>963</td>\n",
       "      <td>0.0001</td>\n",
       "    </tr>\n",
       "    <tr>\n",
       "      <td>1033</td>\n",
       "      <td>NaN</td>\n",
       "    </tr>\n",
       "    <tr>\n",
       "      <td>1067</td>\n",
       "      <td>0.0001</td>\n",
       "    </tr>\n",
       "    <tr>\n",
       "      <td>...</td>\n",
       "      <td>...</td>\n",
       "    </tr>\n",
       "    <tr>\n",
       "      <td>59055</td>\n",
       "      <td>0.0001</td>\n",
       "    </tr>\n",
       "    <tr>\n",
       "      <td>59705</td>\n",
       "      <td>0.0001</td>\n",
       "    </tr>\n",
       "    <tr>\n",
       "      <td>60576</td>\n",
       "      <td>0.0001</td>\n",
       "    </tr>\n",
       "    <tr>\n",
       "      <td>61122</td>\n",
       "      <td>0.0001</td>\n",
       "    </tr>\n",
       "    <tr>\n",
       "      <td>61262</td>\n",
       "      <td>0.0001</td>\n",
       "    </tr>\n",
       "  </tbody>\n",
       "</table>\n",
       "<p>268 rows × 1 columns</p>\n",
       "</div>"
      ],
      "text/plain": [
       "       LOS_diff\n",
       "61       0.0001\n",
       "869      0.0001\n",
       "963      0.0001\n",
       "1033        NaN\n",
       "1067     0.0001\n",
       "...         ...\n",
       "59055    0.0001\n",
       "59705    0.0001\n",
       "60576    0.0001\n",
       "61122    0.0001\n",
       "61262    0.0001\n",
       "\n",
       "[268 rows x 1 columns]"
      ]
     },
     "execution_count": 30,
     "metadata": {},
     "output_type": "execute_result"
    }
   ],
   "source": [
    "# check what the difference between these are\n",
    "df_icu['LOS_diff'] = abs(df_icu.LOS_rounded - df_icu.los_check)\n",
    "\n",
    "df_icu['LOS_equals'] = np.where(abs(df_icu.los_check-df_icu.LOS_rounded)==0, 1, 0)\n",
    "\n",
    "df_icu.loc[df_icu['LOS_equals']==0][['LOS_diff']]"
   ]
  },
  {
   "cell_type": "markdown",
   "metadata": {},
   "source": [
    "it turns out most of the differences was due to rounding differences so I will look for places where differences are greater than 0.0002 (for some reason, differences = to 0.0001 get flagged even with <=)"
   ]
  },
  {
   "cell_type": "code",
   "execution_count": 29,
   "metadata": {},
   "outputs": [
    {
     "data": {
      "text/html": [
       "<div>\n",
       "<style scoped>\n",
       "    .dataframe tbody tr th:only-of-type {\n",
       "        vertical-align: middle;\n",
       "    }\n",
       "\n",
       "    .dataframe tbody tr th {\n",
       "        vertical-align: top;\n",
       "    }\n",
       "\n",
       "    .dataframe thead th {\n",
       "        text-align: right;\n",
       "    }\n",
       "</style>\n",
       "<table border=\"1\" class=\"dataframe\">\n",
       "  <thead>\n",
       "    <tr style=\"text-align: right;\">\n",
       "      <th></th>\n",
       "      <th>LOS_diff</th>\n",
       "      <th>OUTTIME</th>\n",
       "    </tr>\n",
       "  </thead>\n",
       "  <tbody>\n",
       "    <tr>\n",
       "      <td>1033</td>\n",
       "      <td>NaN</td>\n",
       "      <td>NaT</td>\n",
       "    </tr>\n",
       "    <tr>\n",
       "      <td>6451</td>\n",
       "      <td>NaN</td>\n",
       "      <td>NaT</td>\n",
       "    </tr>\n",
       "    <tr>\n",
       "      <td>10165</td>\n",
       "      <td>NaN</td>\n",
       "      <td>NaT</td>\n",
       "    </tr>\n",
       "    <tr>\n",
       "      <td>10507</td>\n",
       "      <td>NaN</td>\n",
       "      <td>NaT</td>\n",
       "    </tr>\n",
       "    <tr>\n",
       "      <td>13080</td>\n",
       "      <td>NaN</td>\n",
       "      <td>NaT</td>\n",
       "    </tr>\n",
       "    <tr>\n",
       "      <td>15156</td>\n",
       "      <td>NaN</td>\n",
       "      <td>NaT</td>\n",
       "    </tr>\n",
       "    <tr>\n",
       "      <td>17759</td>\n",
       "      <td>NaN</td>\n",
       "      <td>NaT</td>\n",
       "    </tr>\n",
       "    <tr>\n",
       "      <td>18442</td>\n",
       "      <td>NaN</td>\n",
       "      <td>NaT</td>\n",
       "    </tr>\n",
       "    <tr>\n",
       "      <td>27840</td>\n",
       "      <td>NaN</td>\n",
       "      <td>NaT</td>\n",
       "    </tr>\n",
       "    <tr>\n",
       "      <td>29117</td>\n",
       "      <td>NaN</td>\n",
       "      <td>NaT</td>\n",
       "    </tr>\n",
       "  </tbody>\n",
       "</table>\n",
       "</div>"
      ],
      "text/plain": [
       "       LOS_diff OUTTIME\n",
       "1033        NaN     NaT\n",
       "6451        NaN     NaT\n",
       "10165       NaN     NaT\n",
       "10507       NaN     NaT\n",
       "13080       NaN     NaT\n",
       "15156       NaN     NaT\n",
       "17759       NaN     NaT\n",
       "18442       NaN     NaT\n",
       "27840       NaN     NaT\n",
       "29117       NaN     NaT"
      ]
     },
     "execution_count": 29,
     "metadata": {},
     "output_type": "execute_result"
    }
   ],
   "source": [
    "df_icu['LOS_equals'] = np.where(abs(df_icu.los_check-df_icu.LOS_rounded)<=0.0002, 1, 0)\n",
    "\n",
    "df_icu.loc[df_icu['LOS_equals'] == 0][['LOS_diff','OUTTIME']]"
   ]
  },
  {
   "cell_type": "markdown",
   "metadata": {},
   "source": [
    "so it turns out the only rows that are causing this is due to NaT in the OUTTIME and having a NaN in the LOS. Good, because we want to remove these anyway! Let's go ahead and remove any rows that have NaT for INTIME, OUTTIME, and LOS."
   ]
  },
  {
   "cell_type": "code",
   "execution_count": 6,
   "metadata": {},
   "outputs": [],
   "source": [
    "df_icu.dropna(subset = [\"LOS\"], inplace=True)\n",
    "df_icu.dropna(subset = [\"INTIME\"], inplace=True)\n",
    "df_icu.dropna(subset = [\"OUTTIME\"], inplace=True)"
   ]
  },
  {
   "cell_type": "code",
   "execution_count": 7,
   "metadata": {},
   "outputs": [
    {
     "data": {
      "text/plain": [
       "61522"
      ]
     },
     "execution_count": 7,
     "metadata": {},
     "output_type": "execute_result"
    }
   ],
   "source": [
    "len(df_icu)"
   ]
  },
  {
   "cell_type": "markdown",
   "metadata": {},
   "source": [
    "looks like 10 cases had LOS=NaN (there weren't any more that had INTIME = NaT or OUTTIME = NaT)"
   ]
  },
  {
   "cell_type": "code",
   "execution_count": 8,
   "metadata": {},
   "outputs": [],
   "source": [
    "# take out the columns I want to keep\n",
    "df_icu = df_icu[[\"SUBJECT_ID\", \"HADM_ID\",\"ICUSTAY_ID\",\"LOS\", \"OUTTIME\"]]"
   ]
  },
  {
   "cell_type": "code",
   "execution_count": 10,
   "metadata": {},
   "outputs": [
    {
     "name": "stdout",
     "output_type": "stream",
     "text": [
      "max ICU stay: 173.072500\n",
      "min ICU stay: 0.000100\n"
     ]
    }
   ],
   "source": [
    "print('max ICU stay: %f' % max(df_icu.LOS))\n",
    "print('min ICU stay: %f' % min(df_icu.LOS))"
   ]
  },
  {
   "cell_type": "markdown",
   "metadata": {},
   "source": [
    "### ADMISSIONS DATA"
   ]
  },
  {
   "cell_type": "markdown",
   "metadata": {},
   "source": [
    "Use this for multiple admits - # of admissions can be used as a predictor\n",
    "\n",
    "I am avoiding using discharge location (for example, home) because that is something that would not be known for future patients until they are about to be discharged"
   ]
  },
  {
   "cell_type": "code",
   "execution_count": 32,
   "metadata": {},
   "outputs": [],
   "source": [
    "df_adm = pd.read_csv('data/Part1/ADMISSIONS.csv')"
   ]
  },
  {
   "cell_type": "code",
   "execution_count": 33,
   "metadata": {},
   "outputs": [
    {
     "data": {
      "text/plain": [
       "58976"
      ]
     },
     "execution_count": 33,
     "metadata": {},
     "output_type": "execute_result"
    }
   ],
   "source": [
    "len(df_adm)"
   ]
  },
  {
   "cell_type": "code",
   "execution_count": 34,
   "metadata": {},
   "outputs": [],
   "source": [
    "# convert format\n",
    "df_adm.ADMITTIME = pd.to_datetime(df_adm.ADMITTIME, format = '%Y-%m-%d %H:%M:%S', errors = 'coerce')\n",
    "df_adm.DISCHTIME = pd.to_datetime(df_adm.DISCHTIME, format = '%Y-%m-%d %H:%M:%S', errors = 'coerce')\n",
    "df_adm.DEATHTIME = pd.to_datetime(df_adm.DEATHTIME, format = '%Y-%m-%d %H:%M:%S', errors = 'coerce')"
   ]
  },
  {
   "cell_type": "code",
   "execution_count": 35,
   "metadata": {},
   "outputs": [],
   "source": [
    "# subset the columns I want to use\n",
    "df_adm = df_adm[['SUBJECT_ID','HADM_ID','ADMITTIME','DISCHTIME','DEATHTIME','ADMISSION_TYPE','ADMISSION_LOCATION','ETHNICITY','INSURANCE']]"
   ]
  },
  {
   "cell_type": "code",
   "execution_count": 36,
   "metadata": {},
   "outputs": [
    {
     "data": {
      "text/plain": [
       "array(['WHITE', 'UNKNOWN/NOT SPECIFIED', 'MULTI RACE ETHNICITY',\n",
       "       'BLACK/AFRICAN AMERICAN', 'HISPANIC OR LATINO',\n",
       "       'PATIENT DECLINED TO ANSWER', 'ASIAN', 'OTHER',\n",
       "       'HISPANIC/LATINO - GUATEMALAN', 'ASIAN - VIETNAMESE',\n",
       "       'AMERICAN INDIAN/ALASKA NATIVE', 'WHITE - RUSSIAN',\n",
       "       'HISPANIC/LATINO - PUERTO RICAN', 'ASIAN - CHINESE',\n",
       "       'ASIAN - ASIAN INDIAN', 'BLACK/AFRICAN',\n",
       "       'HISPANIC/LATINO - SALVADORAN', 'HISPANIC/LATINO - DOMINICAN',\n",
       "       'UNABLE TO OBTAIN', 'BLACK/CAPE VERDEAN', 'BLACK/HAITIAN',\n",
       "       'WHITE - OTHER EUROPEAN', 'PORTUGUESE', 'SOUTH AMERICAN',\n",
       "       'WHITE - EASTERN EUROPEAN', 'CARIBBEAN ISLAND', 'ASIAN - FILIPINO',\n",
       "       'ASIAN - CAMBODIAN', 'HISPANIC/LATINO - CENTRAL AMERICAN (OTHER)',\n",
       "       'WHITE - BRAZILIAN', 'ASIAN - KOREAN',\n",
       "       'HISPANIC/LATINO - COLOMBIAN', 'ASIAN - JAPANESE',\n",
       "       'NATIVE HAWAIIAN OR OTHER PACIFIC ISLANDER', 'ASIAN - THAI',\n",
       "       'HISPANIC/LATINO - HONDURAN', 'HISPANIC/LATINO - CUBAN',\n",
       "       'MIDDLE EASTERN', 'ASIAN - OTHER', 'HISPANIC/LATINO - MEXICAN',\n",
       "       'AMERICAN INDIAN/ALASKA NATIVE FEDERALLY RECOGNIZED TRIBE'],\n",
       "      dtype=object)"
      ]
     },
     "execution_count": 36,
     "metadata": {},
     "output_type": "execute_result"
    }
   ],
   "source": [
    "df_adm['ETHNICITY'].unique()"
   ]
  },
  {
   "cell_type": "code",
   "execution_count": 37,
   "metadata": {},
   "outputs": [],
   "source": [
    "# convert ethnicity to fewer categories\n",
    "df_adm['ETHNICITY_WHITE'] = df_adm['ETHNICITY'].str.contains('WHITE', case=True, regex=False).astype(int)\n",
    "df_adm['ETHNICITY_BLACK'] = df_adm['ETHNICITY'].str.contains('BLACK', case=True, regex=False).astype(int)\n",
    "df_adm['ETHNICITY_HISPANIC/LATINO'] = df_adm['ETHNICITY'].str.contains('HISPANIC', case=True, regex=False).astype(int)\n",
    "df_adm['ETHNICITY_ASIAN'] = df_adm['ETHNICITY'].str.contains('ASIAN', case=True, regex=False).astype(int)\n",
    "df_adm['ETHNICITY_NATIVE'] = df_adm['ETHNICITY'].str.contains('NATIVE', case=True, regex=False).astype(int)"
   ]
  },
  {
   "cell_type": "code",
   "execution_count": 38,
   "metadata": {},
   "outputs": [],
   "source": [
    "df_adm = df_adm.drop(columns=['ETHNICITY'])"
   ]
  },
  {
   "cell_type": "markdown",
   "metadata": {},
   "source": [
    "Count the admission number for each partient"
   ]
  },
  {
   "cell_type": "code",
   "execution_count": 39,
   "metadata": {},
   "outputs": [],
   "source": [
    "df_adm['ADMISSION_NUM'] = df_adm.groupby(['SUBJECT_ID']).cumcount()+1"
   ]
  },
  {
   "cell_type": "markdown",
   "metadata": {},
   "source": [
    "The admissions dataset is substantially smaller than the ICU Stays data... this could be due to multiple ICU stays in a single admission. \n",
    "Let's go ahead and merge on hospital admission ID"
   ]
  },
  {
   "cell_type": "code",
   "execution_count": 40,
   "metadata": {},
   "outputs": [
    {
     "data": {
      "text/plain": [
       "61532"
      ]
     },
     "execution_count": 40,
     "metadata": {},
     "output_type": "execute_result"
    }
   ],
   "source": [
    "df_joined = df_icu.merge(df_adm,  how = 'inner', on = ['HADM_ID','SUBJECT_ID'])\n",
    "len(df_joined)"
   ]
  },
  {
   "cell_type": "code",
   "execution_count": 44,
   "metadata": {},
   "outputs": [
    {
     "name": "stdout",
     "output_type": "stream",
     "text": [
      "# of unique subjects in admissions data: 46520\n",
      "# of unique subjects in ICU/admissions joined data: 46476 \n",
      "# of subjects who have died: 6609\n"
     ]
    }
   ],
   "source": [
    "# show number of unique subjects... shows that there are some subjects in admissions that are not in df_icu\n",
    "print('# of unique subjects in admissions data: %i' % df_adm['SUBJECT_ID'].nunique())\n",
    "print('# of unique subjects in ICU/admissions joined data: %i '% df_joined['SUBJECT_ID'].nunique())\n",
    "\n",
    "# count number of entries with deathtime not NaN, to be dropped later\n",
    "print('# of subjects who have died: %i' % df_joined['DEATHTIME'].count())"
   ]
  },
  {
   "cell_type": "code",
   "execution_count": null,
   "metadata": {},
   "outputs": [],
   "source": []
  }
 ],
 "metadata": {
  "kernelspec": {
   "display_name": "Python 3",
   "language": "python",
   "name": "python3"
  },
  "language_info": {
   "codemirror_mode": {
    "name": "ipython",
    "version": 3
   },
   "file_extension": ".py",
   "mimetype": "text/x-python",
   "name": "python",
   "nbconvert_exporter": "python",
   "pygments_lexer": "ipython3",
   "version": "3.7.4"
  }
 },
 "nbformat": 4,
 "nbformat_minor": 2
}
