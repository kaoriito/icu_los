{
 "cells": [
  {
   "cell_type": "markdown",
   "metadata": {},
   "source": [
    "After cleaning and engineering features, we are now finally at the part where we can do some predictions! I will be using an XGBoost regression algorithm on this data, for the following reasons:\n",
    "\n",
    "1. XGBoost does not expect data to be linear (and as we saw in Part 2, the ICU data is very skewed)\n",
    "2. XGBoost works well on large datasets, particularly where the number of rows exceeds the number of predictors\n",
    "3. XGBoost is very powerful, due to its fitting of subsequent trees on residuals\n",
    "\n",
    "We'll use randomized search to do our tuning in a sequential manner (i.e., searching for the optimal hyperparameters at a time as opposed to doing them all at once). We'll also use pyspark here so that we can use multiple cores to do our processing."
   ]
  },
  {
   "cell_type": "code",
   "execution_count": 1,
   "metadata": {},
   "outputs": [],
   "source": [
    "import scipy\n",
    "import pickle\n",
    "import numpy as np\n",
    "from scipy import sparse"
   ]
  },
  {
   "cell_type": "code",
   "execution_count": 2,
   "metadata": {},
   "outputs": [],
   "source": [
    "# load in saved data\n",
    "X_train_sparse = scipy.sparse.load_npz('data/X_train_sparse.npz')\n",
    "X_test_sparse = scipy.sparse.load_npz('data/X_test_sparse.npz')"
   ]
  },
  {
   "cell_type": "code",
   "execution_count": 3,
   "metadata": {},
   "outputs": [],
   "source": [
    "y_train = pickle.load(open(\"data/y_train.txt\",\"rb\"))\n",
    "y_test = pickle.load(open(\"data/y_test.txt\",\"rb\"))\n",
    "feature_names = pickle.load(open(\"data/feature_names.txt\",\"rb\"))"
   ]
  },
  {
   "cell_type": "code",
   "execution_count": 4,
   "metadata": {},
   "outputs": [],
   "source": [
    "params = pickle.load(open(\"data/tuned_params.txt\",\"rb\"))"
   ]
  },
  {
   "cell_type": "code",
   "execution_count": 5,
   "metadata": {},
   "outputs": [
    {
     "data": {
      "text/plain": [
       "{'min_child_weight': 3, 'max_depth': 5, 'subsample': 1.0, 'eta': 0.1}"
      ]
     },
     "execution_count": 5,
     "metadata": {},
     "output_type": "execute_result"
    }
   ],
   "source": [
    "params"
   ]
  },
  {
   "cell_type": "code",
   "execution_count": 8,
   "metadata": {},
   "outputs": [],
   "source": [
    "#locals().update(params)"
   ]
  },
  {
   "cell_type": "markdown",
   "metadata": {},
   "source": [
    "## Train XGBoost"
   ]
  },
  {
   "cell_type": "code",
   "execution_count": 6,
   "metadata": {},
   "outputs": [],
   "source": [
    "import xgboost as xg\n",
    "from sklearn.model_selection import RepeatedKFold, RandomizedSearchCV, GridSearchCV\n",
    "from joblibspark import register_spark\n",
    "from sklearn.utils import parallel_backend"
   ]
  },
  {
   "cell_type": "markdown",
   "metadata": {},
   "source": [
    "### Max depth & min child weight\n",
    "\n",
    "Max depth: maximum number of nodes in a tree. More nodes = more complex relationships (can overfit)\n",
    "\n",
    "Min child weight: minimum weight required to create a tree. Small min child weight = fewer samples in a tree (also can cause overfitting)\n",
    "\n",
    "These two are fit together to balance the bias-variance trade-off"
   ]
  },
  {
   "cell_type": "code",
   "execution_count": 5,
   "metadata": {},
   "outputs": [],
   "source": [
    "model = xg.XGBRegressor()\n",
    "max_depth = range(1, 6)\n",
    "min_child_weight = range(3, 8)\n",
    "param_grid = dict(max_depth = max_depth, \n",
    "                  min_child_weight = min_child_weight)\n",
    "\n",
    "kfold = RepeatedKFold(n_splits=5, random_state=7)\n",
    "\n",
    "gs = RandomizedSearchCV(model, param_grid, scoring = 'neg_mean_absolute_error', cv = kfold, verbose = 3, n_jobs = -1)"
   ]
  },
  {
   "cell_type": "code",
   "execution_count": 7,
   "metadata": {},
   "outputs": [],
   "source": [
    "register_spark() "
   ]
  },
  {
   "cell_type": "code",
   "execution_count": 7,
   "metadata": {},
   "outputs": [
    {
     "name": "stdout",
     "output_type": "stream",
     "text": [
      "Fitting 50 folds for each of 10 candidates, totalling 500 fits\n"
     ]
    }
   ],
   "source": [
    "with parallel_backend('spark', n_jobs=-1):\n",
    "    gs.fit(X_train_sparse,y_train)"
   ]
  },
  {
   "cell_type": "code",
   "execution_count": 8,
   "metadata": {
    "scrolled": true
   },
   "outputs": [
    {
     "name": "stdout",
     "output_type": "stream",
     "text": [
      "best score: -0.71 using {'min_child_weight': 3, 'max_depth': 5}\n"
     ]
    }
   ],
   "source": [
    "print('best score: %.2f using %s' % (gs.best_score_, gs.best_params_))"
   ]
  },
  {
   "cell_type": "code",
   "execution_count": 9,
   "metadata": {
    "scrolled": false
   },
   "outputs": [
    {
     "data": {
      "text/plain": [
       "{'min_child_weight': 3, 'max_depth': 5}"
      ]
     },
     "execution_count": 9,
     "metadata": {},
     "output_type": "execute_result"
    }
   ],
   "source": [
    "gs.best_params_ "
   ]
  },
  {
   "cell_type": "code",
   "execution_count": 21,
   "metadata": {},
   "outputs": [],
   "source": [
    "locals().update(gs.best_params_)"
   ]
  },
  {
   "cell_type": "code",
   "execution_count": 14,
   "metadata": {},
   "outputs": [],
   "source": [
    "params={}"
   ]
  },
  {
   "cell_type": "code",
   "execution_count": 16,
   "metadata": {},
   "outputs": [],
   "source": [
    "params['min_child_weight']= min_child_weight"
   ]
  },
  {
   "cell_type": "code",
   "execution_count": null,
   "metadata": {
    "scrolled": true
   },
   "outputs": [],
   "source": [
    "params['max_depth']= max_depth"
   ]
  },
  {
   "cell_type": "code",
   "execution_count": 19,
   "metadata": {},
   "outputs": [
    {
     "data": {
      "text/plain": [
       "{'min_child_weight': 3, 'max_depth': 5}"
      ]
     },
     "execution_count": 19,
     "metadata": {},
     "output_type": "execute_result"
    }
   ],
   "source": [
    "params"
   ]
  },
  {
   "cell_type": "markdown",
   "metadata": {},
   "source": [
    "### Subsample\n",
    "\n",
    "Subsample: the fraction of observations to subsample at each boosting round. Default = 1, all rows used"
   ]
  },
  {
   "cell_type": "code",
   "execution_count": 22,
   "metadata": {},
   "outputs": [],
   "source": [
    "subsample = [i/10. for i in range(7,11)]\n",
    "param_grid = dict(subsample = subsample,\n",
    "                 min_child_weight=[min_child_weight],\n",
    "                 max_depth = [max_depth])\n",
    "\n",
    "kfold = RepeatedKFold(n_splits=5, random_state=7)\n",
    "\n",
    "model = xg.XGBRegressor()\n",
    "gs = GridSearchCV(model, param_grid, scoring = 'neg_mean_absolute_error', cv = kfold, verbose = 2, n_jobs = -1)"
   ]
  },
  {
   "cell_type": "code",
   "execution_count": 23,
   "metadata": {
    "scrolled": true
   },
   "outputs": [
    {
     "name": "stdout",
     "output_type": "stream",
     "text": [
      "Fitting 50 folds for each of 4 candidates, totalling 200 fits\n"
     ]
    }
   ],
   "source": [
    "with parallel_backend('spark', n_jobs=-1):\n",
    "    gs.fit(X_train_sparse,y_train)"
   ]
  },
  {
   "cell_type": "code",
   "execution_count": 27,
   "metadata": {},
   "outputs": [
    {
     "data": {
      "text/plain": [
       "{'max_depth': 5, 'min_child_weight': 3, 'subsample': 1.0}"
      ]
     },
     "execution_count": 27,
     "metadata": {},
     "output_type": "execute_result"
    }
   ],
   "source": [
    "gs.best_params_"
   ]
  },
  {
   "cell_type": "code",
   "execution_count": 28,
   "metadata": {},
   "outputs": [],
   "source": [
    "locals().update(gs.best_params_)"
   ]
  },
  {
   "cell_type": "code",
   "execution_count": 29,
   "metadata": {},
   "outputs": [],
   "source": [
    "params['subsample']=subsample"
   ]
  },
  {
   "cell_type": "markdown",
   "metadata": {},
   "source": [
    "### eta\n",
    "eta: learning rate for each step; controls the shrinkage of weights associated with features after each round (how much to correct for at each step). Lower eta: more robust to overfitting, but requires more boosting rounds."
   ]
  },
  {
   "cell_type": "code",
   "execution_count": 30,
   "metadata": {},
   "outputs": [],
   "source": [
    "eta = [0.3, 0.2, 0.1, 0.5, 0.01, 0.005]\n",
    "param_grid = dict(eta = eta,\n",
    "                 subsample=[subsample],\n",
    "                 min_child_weight = [min_child_weight],\n",
    "                 max_depth = [max_depth])\n",
    "\n",
    "kfold = RepeatedKFold(n_splits=5, random_state=7)\n",
    "\n",
    "model = xg.XGBRegressor()\n",
    "gs = GridSearchCV(model, param_grid, scoring = 'neg_mean_absolute_error', cv = kfold, verbose = 2, n_jobs = -1)"
   ]
  },
  {
   "cell_type": "code",
   "execution_count": 31,
   "metadata": {},
   "outputs": [
    {
     "name": "stdout",
     "output_type": "stream",
     "text": [
      "Fitting 50 folds for each of 6 candidates, totalling 300 fits\n"
     ]
    }
   ],
   "source": [
    "with parallel_backend('spark', n_jobs=-1):\n",
    "    gs.fit(X_train_sparse,y_train)"
   ]
  },
  {
   "cell_type": "code",
   "execution_count": 32,
   "metadata": {},
   "outputs": [
    {
     "data": {
      "text/plain": [
       "{'eta': 0.1, 'max_depth': 5, 'min_child_weight': 3, 'subsample': 1.0}"
      ]
     },
     "execution_count": 32,
     "metadata": {},
     "output_type": "execute_result"
    }
   ],
   "source": [
    "gs.best_params_"
   ]
  },
  {
   "cell_type": "code",
   "execution_count": 33,
   "metadata": {},
   "outputs": [],
   "source": [
    "locals().update(gs.best_params_)"
   ]
  },
  {
   "cell_type": "code",
   "execution_count": 34,
   "metadata": {},
   "outputs": [],
   "source": [
    "params['eta']=eta"
   ]
  },
  {
   "cell_type": "markdown",
   "metadata": {},
   "source": [
    "### reg lambda\n",
    "Reg lambda: regularization parameter to shrink the number of predictors"
   ]
  },
  {
   "cell_type": "code",
   "execution_count": 9,
   "metadata": {},
   "outputs": [],
   "source": [
    "reg_lambda = [0.1, 1.0, 5.0, 10.0, 50.0, 100.0]\n",
    "param_grid = dict(reg_lambda = reg_lambda,\n",
    "                   subsample=[subsample],\n",
    "                   min_child_weight = [min_child_weight],\n",
    "                   max_depth = [max_depth],\n",
    "                   eta = [eta])\n",
    "\n",
    "kfold = RepeatedKFold(n_splits=5, random_state=7)\n",
    "\n",
    "model = xg.XGBRegressor()\n",
    "gs = GridSearchCV(model, param_grid, scoring = 'neg_mean_absolute_error', cv = kfold, verbose = 2, n_jobs = -1)"
   ]
  },
  {
   "cell_type": "code",
   "execution_count": 10,
   "metadata": {},
   "outputs": [
    {
     "name": "stdout",
     "output_type": "stream",
     "text": [
      "Fitting 50 folds for each of 6 candidates, totalling 300 fits\n"
     ]
    }
   ],
   "source": [
    "with parallel_backend('spark', n_jobs=-1):\n",
    "    gs.fit(X_train_sparse, y_train)"
   ]
  },
  {
   "cell_type": "code",
   "execution_count": 11,
   "metadata": {},
   "outputs": [
    {
     "data": {
      "text/plain": [
       "{'eta': 0.1,\n",
       " 'max_depth': 5,\n",
       " 'min_child_weight': 3,\n",
       " 'reg_lambda': 0.1,\n",
       " 'subsample': 1.0}"
      ]
     },
     "execution_count": 11,
     "metadata": {},
     "output_type": "execute_result"
    }
   ],
   "source": [
    "gs.best_params_"
   ]
  },
  {
   "cell_type": "code",
   "execution_count": 12,
   "metadata": {},
   "outputs": [],
   "source": [
    "locals().update(gs.best_params_)"
   ]
  },
  {
   "cell_type": "code",
   "execution_count": 13,
   "metadata": {},
   "outputs": [],
   "source": [
    "params['reg_lambda']=reg_lambda"
   ]
  },
  {
   "cell_type": "code",
   "execution_count": 14,
   "metadata": {},
   "outputs": [],
   "source": [
    "with open(\"data/tuned_params.txt\", \"wb\") as fp:\n",
    "    pickle.dump(params, fp)"
   ]
  },
  {
   "cell_type": "code",
   "execution_count": 15,
   "metadata": {},
   "outputs": [],
   "source": [
    "params['n_estimators']=999"
   ]
  },
  {
   "cell_type": "code",
   "execution_count": 16,
   "metadata": {},
   "outputs": [
    {
     "data": {
      "text/plain": [
       "{'min_child_weight': 3,\n",
       " 'max_depth': 5,\n",
       " 'subsample': 1.0,\n",
       " 'eta': 0.1,\n",
       " 'reg_lambda': 0.1,\n",
       " 'n_estimators': 999}"
      ]
     },
     "execution_count": 16,
     "metadata": {},
     "output_type": "execute_result"
    }
   ],
   "source": [
    "params"
   ]
  },
  {
   "cell_type": "markdown",
   "metadata": {},
   "source": [
    "### Fit XGBoost"
   ]
  },
  {
   "cell_type": "code",
   "execution_count": 17,
   "metadata": {},
   "outputs": [],
   "source": [
    "xgb_r = xg.XGBRegressor(**params, objective = \"reg:squarederror\", seed = 31, feature_names = feature_names)"
   ]
  },
  {
   "cell_type": "code",
   "execution_count": 18,
   "metadata": {},
   "outputs": [
    {
     "data": {
      "text/plain": [
       "XGBRegressor(base_score=None, booster=None, colsample_bylevel=None,\n",
       "             colsample_bynode=None, colsample_bytree=None, eta=0.1,\n",
       "             feature_names=['ETHNICITY_WHITE', 'ETHNICITY_BLACK',\n",
       "                            'ETHNICITY_HISPANIC/LATINO', 'ETHNICITY_ASIAN',\n",
       "                            'ETHNICITY_NATIVE', 'ADMISSION_NUM', 'ICUSTAY_NUM',\n",
       "                            'AGE', 'ICD_BINS_18', 'ICD_BINS_1', 'ICD_BINS_2',\n",
       "                            'ICD_BINS_3', 'ICD_BINS_4', 'ICD_BINS_5',\n",
       "                            'I...\n",
       "             gamma=None, gpu_id=None, importance_type='gain',\n",
       "             interaction_constraints=None, learning_rate=None,\n",
       "             max_delta_step=None, max_depth=5, min_child_weight=3, missing=nan,\n",
       "             monotone_constraints=None, n_estimators=999, n_jobs=None,\n",
       "             num_parallel_tree=None, random_state=None, reg_alpha=None,\n",
       "             reg_lambda=0.1, scale_pos_weight=None, seed=31, subsample=1.0,\n",
       "             tree_method=None, validate_parameters=None, verbosity=None)"
      ]
     },
     "execution_count": 18,
     "metadata": {},
     "output_type": "execute_result"
    }
   ],
   "source": [
    "xgb_r"
   ]
  },
  {
   "cell_type": "code",
   "execution_count": 19,
   "metadata": {},
   "outputs": [],
   "source": [
    "eval_set = [(X_train_sparse, y_train), (X_test_sparse, y_test)]"
   ]
  },
  {
   "cell_type": "code",
   "execution_count": 20,
   "metadata": {},
   "outputs": [
    {
     "name": "stdout",
     "output_type": "stream",
     "text": [
      "[19:29:49] WARNING: /Users/travis/build/dmlc/xgboost/src/learner.cc:541: \n",
      "Parameters: { feature_names } might not be used.\n",
      "\n",
      "  This may not be accurate due to some parameters are only used in language bindings but\n",
      "  passed down to XGBoost core.  Or some parameters are not used but slip through this\n",
      "  verification. Please open an issue if you find above cases.\n",
      "\n",
      "\n",
      "[0]\tvalidation_0-rmse:6.67241\tvalidation_1-rmse:6.63598\n",
      "[1]\tvalidation_0-rmse:6.07023\tvalidation_1-rmse:6.04348\n",
      "[2]\tvalidation_0-rmse:5.52725\tvalidation_1-rmse:5.50812\n",
      "[3]\tvalidation_0-rmse:5.04492\tvalidation_1-rmse:5.03887\n",
      "[4]\tvalidation_0-rmse:4.60609\tvalidation_1-rmse:4.62137\n",
      "[5]\tvalidation_0-rmse:4.21448\tvalidation_1-rmse:4.24196\n",
      "[6]\tvalidation_0-rmse:3.85912\tvalidation_1-rmse:3.88410\n",
      "[7]\tvalidation_0-rmse:3.54240\tvalidation_1-rmse:3.58745\n",
      "[8]\tvalidation_0-rmse:3.26004\tvalidation_1-rmse:3.32610\n",
      "[9]\tvalidation_0-rmse:3.00119\tvalidation_1-rmse:3.09134\n",
      "[10]\tvalidation_0-rmse:2.77424\tvalidation_1-rmse:2.88248\n",
      "[11]\tvalidation_0-rmse:2.56949\tvalidation_1-rmse:2.69508\n",
      "[12]\tvalidation_0-rmse:2.38448\tvalidation_1-rmse:2.53376\n",
      "[13]\tvalidation_0-rmse:2.22199\tvalidation_1-rmse:2.38743\n",
      "[14]\tvalidation_0-rmse:2.07305\tvalidation_1-rmse:2.26392\n",
      "[15]\tvalidation_0-rmse:1.94253\tvalidation_1-rmse:2.15589\n",
      "[16]\tvalidation_0-rmse:1.82836\tvalidation_1-rmse:2.06739\n",
      "[17]\tvalidation_0-rmse:1.72715\tvalidation_1-rmse:1.99198\n",
      "[18]\tvalidation_0-rmse:1.63446\tvalidation_1-rmse:1.92147\n",
      "[19]\tvalidation_0-rmse:1.55547\tvalidation_1-rmse:1.86249\n",
      "[20]\tvalidation_0-rmse:1.48419\tvalidation_1-rmse:1.80710\n",
      "[21]\tvalidation_0-rmse:1.41834\tvalidation_1-rmse:1.76261\n",
      "[22]\tvalidation_0-rmse:1.36269\tvalidation_1-rmse:1.72509\n",
      "[23]\tvalidation_0-rmse:1.31213\tvalidation_1-rmse:1.68837\n",
      "[24]\tvalidation_0-rmse:1.26416\tvalidation_1-rmse:1.65972\n",
      "[25]\tvalidation_0-rmse:1.22371\tvalidation_1-rmse:1.63562\n",
      "[26]\tvalidation_0-rmse:1.18500\tvalidation_1-rmse:1.61037\n",
      "[27]\tvalidation_0-rmse:1.15234\tvalidation_1-rmse:1.59127\n",
      "[28]\tvalidation_0-rmse:1.12233\tvalidation_1-rmse:1.57506\n",
      "[29]\tvalidation_0-rmse:1.09659\tvalidation_1-rmse:1.55960\n",
      "[30]\tvalidation_0-rmse:1.07135\tvalidation_1-rmse:1.54651\n",
      "[31]\tvalidation_0-rmse:1.04893\tvalidation_1-rmse:1.53434\n",
      "[32]\tvalidation_0-rmse:1.02833\tvalidation_1-rmse:1.52201\n",
      "[33]\tvalidation_0-rmse:1.00980\tvalidation_1-rmse:1.51380\n",
      "[34]\tvalidation_0-rmse:0.99326\tvalidation_1-rmse:1.50500\n",
      "[35]\tvalidation_0-rmse:0.97781\tvalidation_1-rmse:1.49890\n",
      "[36]\tvalidation_0-rmse:0.96394\tvalidation_1-rmse:1.49361\n",
      "[37]\tvalidation_0-rmse:0.95088\tvalidation_1-rmse:1.48905\n",
      "[38]\tvalidation_0-rmse:0.94025\tvalidation_1-rmse:1.48370\n",
      "[39]\tvalidation_0-rmse:0.92901\tvalidation_1-rmse:1.48012\n",
      "[40]\tvalidation_0-rmse:0.91828\tvalidation_1-rmse:1.47687\n",
      "[41]\tvalidation_0-rmse:0.90772\tvalidation_1-rmse:1.47235\n",
      "[42]\tvalidation_0-rmse:0.89826\tvalidation_1-rmse:1.46968\n",
      "[43]\tvalidation_0-rmse:0.89001\tvalidation_1-rmse:1.46578\n",
      "[44]\tvalidation_0-rmse:0.88197\tvalidation_1-rmse:1.46389\n",
      "[45]\tvalidation_0-rmse:0.87387\tvalidation_1-rmse:1.46137\n",
      "[46]\tvalidation_0-rmse:0.86514\tvalidation_1-rmse:1.45928\n",
      "[47]\tvalidation_0-rmse:0.85785\tvalidation_1-rmse:1.45626\n",
      "[48]\tvalidation_0-rmse:0.85137\tvalidation_1-rmse:1.45332\n",
      "[49]\tvalidation_0-rmse:0.84422\tvalidation_1-rmse:1.44920\n",
      "[50]\tvalidation_0-rmse:0.83712\tvalidation_1-rmse:1.44487\n",
      "[51]\tvalidation_0-rmse:0.82974\tvalidation_1-rmse:1.44193\n",
      "[52]\tvalidation_0-rmse:0.82421\tvalidation_1-rmse:1.43914\n",
      "[53]\tvalidation_0-rmse:0.81909\tvalidation_1-rmse:1.43714\n",
      "[54]\tvalidation_0-rmse:0.81366\tvalidation_1-rmse:1.43549\n",
      "[55]\tvalidation_0-rmse:0.80907\tvalidation_1-rmse:1.43400\n",
      "[56]\tvalidation_0-rmse:0.80342\tvalidation_1-rmse:1.43249\n",
      "[57]\tvalidation_0-rmse:0.79858\tvalidation_1-rmse:1.43167\n",
      "[58]\tvalidation_0-rmse:0.79329\tvalidation_1-rmse:1.43030\n",
      "[59]\tvalidation_0-rmse:0.78752\tvalidation_1-rmse:1.42822\n",
      "[60]\tvalidation_0-rmse:0.78226\tvalidation_1-rmse:1.42723\n",
      "[61]\tvalidation_0-rmse:0.77772\tvalidation_1-rmse:1.42586\n",
      "[62]\tvalidation_0-rmse:0.77370\tvalidation_1-rmse:1.42300\n",
      "[63]\tvalidation_0-rmse:0.76883\tvalidation_1-rmse:1.42109\n",
      "[64]\tvalidation_0-rmse:0.76369\tvalidation_1-rmse:1.41944\n",
      "[65]\tvalidation_0-rmse:0.75948\tvalidation_1-rmse:1.41859\n",
      "[66]\tvalidation_0-rmse:0.75527\tvalidation_1-rmse:1.41711\n",
      "[67]\tvalidation_0-rmse:0.75196\tvalidation_1-rmse:1.41632\n",
      "[68]\tvalidation_0-rmse:0.74720\tvalidation_1-rmse:1.41590\n",
      "[69]\tvalidation_0-rmse:0.74300\tvalidation_1-rmse:1.41420\n",
      "[70]\tvalidation_0-rmse:0.73886\tvalidation_1-rmse:1.41348\n",
      "[71]\tvalidation_0-rmse:0.73528\tvalidation_1-rmse:1.41213\n",
      "[72]\tvalidation_0-rmse:0.73127\tvalidation_1-rmse:1.41091\n",
      "[73]\tvalidation_0-rmse:0.72747\tvalidation_1-rmse:1.40950\n",
      "[74]\tvalidation_0-rmse:0.72362\tvalidation_1-rmse:1.40796\n",
      "[75]\tvalidation_0-rmse:0.71938\tvalidation_1-rmse:1.40714\n",
      "[76]\tvalidation_0-rmse:0.71775\tvalidation_1-rmse:1.40642\n",
      "[77]\tvalidation_0-rmse:0.71349\tvalidation_1-rmse:1.40557\n",
      "[78]\tvalidation_0-rmse:0.71034\tvalidation_1-rmse:1.40576\n",
      "[79]\tvalidation_0-rmse:0.70663\tvalidation_1-rmse:1.40448\n",
      "[80]\tvalidation_0-rmse:0.70374\tvalidation_1-rmse:1.40344\n",
      "[81]\tvalidation_0-rmse:0.69992\tvalidation_1-rmse:1.40248\n",
      "[82]\tvalidation_0-rmse:0.69635\tvalidation_1-rmse:1.40208\n",
      "[83]\tvalidation_0-rmse:0.69341\tvalidation_1-rmse:1.40121\n",
      "[84]\tvalidation_0-rmse:0.68997\tvalidation_1-rmse:1.40071\n",
      "[85]\tvalidation_0-rmse:0.68714\tvalidation_1-rmse:1.39978\n",
      "[86]\tvalidation_0-rmse:0.68416\tvalidation_1-rmse:1.39892\n",
      "[87]\tvalidation_0-rmse:0.68116\tvalidation_1-rmse:1.39806\n",
      "[88]\tvalidation_0-rmse:0.67810\tvalidation_1-rmse:1.39758\n",
      "[89]\tvalidation_0-rmse:0.67592\tvalidation_1-rmse:1.39713\n",
      "[90]\tvalidation_0-rmse:0.67374\tvalidation_1-rmse:1.39657\n",
      "[91]\tvalidation_0-rmse:0.67102\tvalidation_1-rmse:1.39624\n",
      "[92]\tvalidation_0-rmse:0.66752\tvalidation_1-rmse:1.39549\n",
      "[93]\tvalidation_0-rmse:0.66500\tvalidation_1-rmse:1.39513\n",
      "[94]\tvalidation_0-rmse:0.66206\tvalidation_1-rmse:1.39466\n",
      "[95]\tvalidation_0-rmse:0.65905\tvalidation_1-rmse:1.39406\n",
      "[96]\tvalidation_0-rmse:0.65650\tvalidation_1-rmse:1.39359\n",
      "[97]\tvalidation_0-rmse:0.65387\tvalidation_1-rmse:1.39311\n",
      "[98]\tvalidation_0-rmse:0.65089\tvalidation_1-rmse:1.39280\n",
      "[99]\tvalidation_0-rmse:0.64922\tvalidation_1-rmse:1.39183\n",
      "[100]\tvalidation_0-rmse:0.64623\tvalidation_1-rmse:1.39096\n",
      "[101]\tvalidation_0-rmse:0.64421\tvalidation_1-rmse:1.39049\n",
      "[102]\tvalidation_0-rmse:0.64126\tvalidation_1-rmse:1.39011\n",
      "[103]\tvalidation_0-rmse:0.63961\tvalidation_1-rmse:1.39009\n",
      "[104]\tvalidation_0-rmse:0.63799\tvalidation_1-rmse:1.38966\n",
      "[105]\tvalidation_0-rmse:0.63603\tvalidation_1-rmse:1.38932\n",
      "[106]\tvalidation_0-rmse:0.63333\tvalidation_1-rmse:1.38871\n",
      "[107]\tvalidation_0-rmse:0.63059\tvalidation_1-rmse:1.38796\n",
      "[108]\tvalidation_0-rmse:0.62820\tvalidation_1-rmse:1.38747\n",
      "[109]\tvalidation_0-rmse:0.62539\tvalidation_1-rmse:1.38703\n",
      "[110]\tvalidation_0-rmse:0.62306\tvalidation_1-rmse:1.38664\n",
      "[111]\tvalidation_0-rmse:0.62087\tvalidation_1-rmse:1.38631\n",
      "[112]\tvalidation_0-rmse:0.61863\tvalidation_1-rmse:1.38601\n",
      "[113]\tvalidation_0-rmse:0.61601\tvalidation_1-rmse:1.38633\n",
      "[114]\tvalidation_0-rmse:0.61420\tvalidation_1-rmse:1.38576\n",
      "[115]\tvalidation_0-rmse:0.61285\tvalidation_1-rmse:1.38539\n",
      "[116]\tvalidation_0-rmse:0.61156\tvalidation_1-rmse:1.38514\n",
      "[117]\tvalidation_0-rmse:0.60917\tvalidation_1-rmse:1.38436\n",
      "[118]\tvalidation_0-rmse:0.60686\tvalidation_1-rmse:1.38400\n",
      "[119]\tvalidation_0-rmse:0.60467\tvalidation_1-rmse:1.38336\n",
      "[120]\tvalidation_0-rmse:0.60279\tvalidation_1-rmse:1.38304\n",
      "[121]\tvalidation_0-rmse:0.60079\tvalidation_1-rmse:1.38275\n",
      "[122]\tvalidation_0-rmse:0.59857\tvalidation_1-rmse:1.38285\n",
      "[123]\tvalidation_0-rmse:0.59675\tvalidation_1-rmse:1.38196\n",
      "[124]\tvalidation_0-rmse:0.59471\tvalidation_1-rmse:1.38164\n",
      "[125]\tvalidation_0-rmse:0.59266\tvalidation_1-rmse:1.38151\n",
      "[126]\tvalidation_0-rmse:0.59065\tvalidation_1-rmse:1.38100\n",
      "[127]\tvalidation_0-rmse:0.58817\tvalidation_1-rmse:1.38038\n",
      "[128]\tvalidation_0-rmse:0.58659\tvalidation_1-rmse:1.38063\n",
      "[129]\tvalidation_0-rmse:0.58483\tvalidation_1-rmse:1.38005\n",
      "[130]\tvalidation_0-rmse:0.58286\tvalidation_1-rmse:1.37972\n",
      "[131]\tvalidation_0-rmse:0.58123\tvalidation_1-rmse:1.37940\n",
      "[132]\tvalidation_0-rmse:0.57931\tvalidation_1-rmse:1.37949\n",
      "[133]\tvalidation_0-rmse:0.57679\tvalidation_1-rmse:1.37911\n",
      "[134]\tvalidation_0-rmse:0.57452\tvalidation_1-rmse:1.37928\n",
      "[135]\tvalidation_0-rmse:0.57273\tvalidation_1-rmse:1.37887\n",
      "[136]\tvalidation_0-rmse:0.57108\tvalidation_1-rmse:1.37857\n"
     ]
    },
    {
     "name": "stdout",
     "output_type": "stream",
     "text": [
      "[137]\tvalidation_0-rmse:0.56931\tvalidation_1-rmse:1.37829\n",
      "[138]\tvalidation_0-rmse:0.56765\tvalidation_1-rmse:1.37823\n",
      "[139]\tvalidation_0-rmse:0.56598\tvalidation_1-rmse:1.37782\n",
      "[140]\tvalidation_0-rmse:0.56431\tvalidation_1-rmse:1.37736\n",
      "[141]\tvalidation_0-rmse:0.56200\tvalidation_1-rmse:1.37693\n",
      "[142]\tvalidation_0-rmse:0.56022\tvalidation_1-rmse:1.37670\n",
      "[143]\tvalidation_0-rmse:0.55839\tvalidation_1-rmse:1.37597\n",
      "[144]\tvalidation_0-rmse:0.55676\tvalidation_1-rmse:1.37570\n",
      "[145]\tvalidation_0-rmse:0.55465\tvalidation_1-rmse:1.37510\n",
      "[146]\tvalidation_0-rmse:0.55283\tvalidation_1-rmse:1.37486\n",
      "[147]\tvalidation_0-rmse:0.55095\tvalidation_1-rmse:1.37443\n",
      "[148]\tvalidation_0-rmse:0.54955\tvalidation_1-rmse:1.37436\n",
      "[149]\tvalidation_0-rmse:0.54793\tvalidation_1-rmse:1.37419\n",
      "[150]\tvalidation_0-rmse:0.54670\tvalidation_1-rmse:1.37383\n",
      "[151]\tvalidation_0-rmse:0.54529\tvalidation_1-rmse:1.37399\n",
      "[152]\tvalidation_0-rmse:0.54352\tvalidation_1-rmse:1.37382\n",
      "[153]\tvalidation_0-rmse:0.54179\tvalidation_1-rmse:1.37383\n",
      "[154]\tvalidation_0-rmse:0.54020\tvalidation_1-rmse:1.37411\n",
      "[155]\tvalidation_0-rmse:0.53844\tvalidation_1-rmse:1.37394\n",
      "[156]\tvalidation_0-rmse:0.53689\tvalidation_1-rmse:1.37340\n",
      "[157]\tvalidation_0-rmse:0.53540\tvalidation_1-rmse:1.37329\n",
      "[158]\tvalidation_0-rmse:0.53437\tvalidation_1-rmse:1.37311\n",
      "[159]\tvalidation_0-rmse:0.53270\tvalidation_1-rmse:1.37291\n",
      "[160]\tvalidation_0-rmse:0.53122\tvalidation_1-rmse:1.37334\n",
      "[161]\tvalidation_0-rmse:0.53021\tvalidation_1-rmse:1.37297\n",
      "[162]\tvalidation_0-rmse:0.52910\tvalidation_1-rmse:1.37279\n",
      "[163]\tvalidation_0-rmse:0.52814\tvalidation_1-rmse:1.37255\n",
      "[164]\tvalidation_0-rmse:0.52692\tvalidation_1-rmse:1.37249\n",
      "[165]\tvalidation_0-rmse:0.52555\tvalidation_1-rmse:1.37246\n",
      "[166]\tvalidation_0-rmse:0.52437\tvalidation_1-rmse:1.37221\n",
      "[167]\tvalidation_0-rmse:0.52265\tvalidation_1-rmse:1.37176\n",
      "[168]\tvalidation_0-rmse:0.52132\tvalidation_1-rmse:1.37156\n",
      "[169]\tvalidation_0-rmse:0.51993\tvalidation_1-rmse:1.37117\n",
      "[170]\tvalidation_0-rmse:0.51825\tvalidation_1-rmse:1.37068\n",
      "[171]\tvalidation_0-rmse:0.51656\tvalidation_1-rmse:1.37051\n",
      "[172]\tvalidation_0-rmse:0.51514\tvalidation_1-rmse:1.37039\n",
      "[173]\tvalidation_0-rmse:0.51349\tvalidation_1-rmse:1.37023\n",
      "[174]\tvalidation_0-rmse:0.51208\tvalidation_1-rmse:1.36995\n",
      "[175]\tvalidation_0-rmse:0.51056\tvalidation_1-rmse:1.36997\n",
      "[176]\tvalidation_0-rmse:0.50930\tvalidation_1-rmse:1.36980\n",
      "[177]\tvalidation_0-rmse:0.50767\tvalidation_1-rmse:1.36973\n",
      "[178]\tvalidation_0-rmse:0.50641\tvalidation_1-rmse:1.36955\n",
      "[179]\tvalidation_0-rmse:0.50523\tvalidation_1-rmse:1.36955\n",
      "[180]\tvalidation_0-rmse:0.50362\tvalidation_1-rmse:1.36927\n",
      "[181]\tvalidation_0-rmse:0.50311\tvalidation_1-rmse:1.36925\n",
      "[182]\tvalidation_0-rmse:0.50173\tvalidation_1-rmse:1.36900\n",
      "[183]\tvalidation_0-rmse:0.50031\tvalidation_1-rmse:1.36909\n",
      "[184]\tvalidation_0-rmse:0.49876\tvalidation_1-rmse:1.36888\n",
      "[185]\tvalidation_0-rmse:0.49746\tvalidation_1-rmse:1.36885\n",
      "[186]\tvalidation_0-rmse:0.49613\tvalidation_1-rmse:1.36846\n",
      "[187]\tvalidation_0-rmse:0.49470\tvalidation_1-rmse:1.36812\n",
      "[188]\tvalidation_0-rmse:0.49314\tvalidation_1-rmse:1.36808\n",
      "[189]\tvalidation_0-rmse:0.49218\tvalidation_1-rmse:1.36808\n",
      "[190]\tvalidation_0-rmse:0.49095\tvalidation_1-rmse:1.36783\n",
      "[191]\tvalidation_0-rmse:0.48977\tvalidation_1-rmse:1.36779\n",
      "[192]\tvalidation_0-rmse:0.48828\tvalidation_1-rmse:1.36753\n",
      "[193]\tvalidation_0-rmse:0.48693\tvalidation_1-rmse:1.36717\n",
      "[194]\tvalidation_0-rmse:0.48573\tvalidation_1-rmse:1.36709\n",
      "[195]\tvalidation_0-rmse:0.48473\tvalidation_1-rmse:1.36693\n",
      "[196]\tvalidation_0-rmse:0.48323\tvalidation_1-rmse:1.36679\n",
      "[197]\tvalidation_0-rmse:0.48202\tvalidation_1-rmse:1.36667\n",
      "[198]\tvalidation_0-rmse:0.48108\tvalidation_1-rmse:1.36637\n",
      "[199]\tvalidation_0-rmse:0.47961\tvalidation_1-rmse:1.36607\n",
      "[200]\tvalidation_0-rmse:0.47861\tvalidation_1-rmse:1.36592\n",
      "[201]\tvalidation_0-rmse:0.47756\tvalidation_1-rmse:1.36557\n",
      "[202]\tvalidation_0-rmse:0.47627\tvalidation_1-rmse:1.36530\n",
      "[203]\tvalidation_0-rmse:0.47498\tvalidation_1-rmse:1.36513\n",
      "[204]\tvalidation_0-rmse:0.47393\tvalidation_1-rmse:1.36488\n",
      "[205]\tvalidation_0-rmse:0.47277\tvalidation_1-rmse:1.36478\n",
      "[206]\tvalidation_0-rmse:0.47175\tvalidation_1-rmse:1.36466\n",
      "[207]\tvalidation_0-rmse:0.47063\tvalidation_1-rmse:1.36448\n",
      "[208]\tvalidation_0-rmse:0.46971\tvalidation_1-rmse:1.36437\n",
      "[209]\tvalidation_0-rmse:0.46843\tvalidation_1-rmse:1.36442\n",
      "[210]\tvalidation_0-rmse:0.46720\tvalidation_1-rmse:1.36423\n",
      "[211]\tvalidation_0-rmse:0.46594\tvalidation_1-rmse:1.36406\n",
      "[212]\tvalidation_0-rmse:0.46488\tvalidation_1-rmse:1.36386\n",
      "[213]\tvalidation_0-rmse:0.46416\tvalidation_1-rmse:1.36362\n",
      "[214]\tvalidation_0-rmse:0.46286\tvalidation_1-rmse:1.36323\n",
      "[215]\tvalidation_0-rmse:0.46159\tvalidation_1-rmse:1.36330\n",
      "[216]\tvalidation_0-rmse:0.46050\tvalidation_1-rmse:1.36299\n",
      "[217]\tvalidation_0-rmse:0.45918\tvalidation_1-rmse:1.36280\n",
      "[218]\tvalidation_0-rmse:0.45839\tvalidation_1-rmse:1.36272\n",
      "[219]\tvalidation_0-rmse:0.45729\tvalidation_1-rmse:1.36267\n",
      "[220]\tvalidation_0-rmse:0.45674\tvalidation_1-rmse:1.36252\n",
      "[221]\tvalidation_0-rmse:0.45566\tvalidation_1-rmse:1.36229\n",
      "[222]\tvalidation_0-rmse:0.45483\tvalidation_1-rmse:1.36221\n",
      "[223]\tvalidation_0-rmse:0.45359\tvalidation_1-rmse:1.36194\n",
      "[224]\tvalidation_0-rmse:0.45243\tvalidation_1-rmse:1.36169\n",
      "[225]\tvalidation_0-rmse:0.45166\tvalidation_1-rmse:1.36158\n",
      "[226]\tvalidation_0-rmse:0.45057\tvalidation_1-rmse:1.36170\n",
      "[227]\tvalidation_0-rmse:0.45004\tvalidation_1-rmse:1.36173\n",
      "[228]\tvalidation_0-rmse:0.44907\tvalidation_1-rmse:1.36205\n",
      "[229]\tvalidation_0-rmse:0.44841\tvalidation_1-rmse:1.36212\n",
      "[230]\tvalidation_0-rmse:0.44750\tvalidation_1-rmse:1.36203\n",
      "[231]\tvalidation_0-rmse:0.44669\tvalidation_1-rmse:1.36200\n",
      "[232]\tvalidation_0-rmse:0.44554\tvalidation_1-rmse:1.36194\n",
      "[233]\tvalidation_0-rmse:0.44457\tvalidation_1-rmse:1.36175\n",
      "[234]\tvalidation_0-rmse:0.44356\tvalidation_1-rmse:1.36173\n",
      "[235]\tvalidation_0-rmse:0.44311\tvalidation_1-rmse:1.36164\n"
     ]
    },
    {
     "data": {
      "text/plain": [
       "XGBRegressor(base_score=0.5, booster='gbtree', colsample_bylevel=1,\n",
       "             colsample_bynode=1, colsample_bytree=1, eta=0.1,\n",
       "             feature_names=['ETHNICITY_WHITE', 'ETHNICITY_BLACK',\n",
       "                            'ETHNICITY_HISPANIC/LATINO', 'ETHNICITY_ASIAN',\n",
       "                            'ETHNICITY_NATIVE', 'ADMISSION_NUM', 'ICUSTAY_NUM',\n",
       "                            'AGE', 'ICD_BINS_18', 'ICD_BINS_1', 'ICD_BINS_2',\n",
       "                            'ICD_BINS_3', 'ICD_BINS_4', 'ICD_BINS_5',\n",
       "                            'ICD_BIN...\n",
       "             gamma=0, gpu_id=-1, importance_type='gain',\n",
       "             interaction_constraints='', learning_rate=0.100000001,\n",
       "             max_delta_step=0, max_depth=5, min_child_weight=3, missing=nan,\n",
       "             monotone_constraints='()', n_estimators=999, n_jobs=8,\n",
       "             num_parallel_tree=1, random_state=31, reg_alpha=0, reg_lambda=0.1,\n",
       "             scale_pos_weight=1, seed=31, subsample=1.0, tree_method='exact',\n",
       "             validate_parameters=1, verbosity=None)"
      ]
     },
     "execution_count": 20,
     "metadata": {},
     "output_type": "execute_result"
    }
   ],
   "source": [
    "xgb_r.fit(X_train_sparse, y_train, eval_set=eval_set, early_stopping_rounds = 10)"
   ]
  },
  {
   "cell_type": "code",
   "execution_count": 21,
   "metadata": {},
   "outputs": [],
   "source": [
    "y_train_preds = xgb_r.predict(X_train_sparse)"
   ]
  },
  {
   "cell_type": "code",
   "execution_count": 22,
   "metadata": {},
   "outputs": [],
   "source": [
    "y_test_preds = xgb_r.predict(X_test_sparse)"
   ]
  },
  {
   "cell_type": "code",
   "execution_count": 23,
   "metadata": {},
   "outputs": [
    {
     "data": {
      "text/plain": [
       "0.9949553438402707"
      ]
     },
     "execution_count": 23,
     "metadata": {},
     "output_type": "execute_result"
    }
   ],
   "source": [
    "xgb_r.score(X_train_sparse,y_train)"
   ]
  },
  {
   "cell_type": "code",
   "execution_count": 24,
   "metadata": {},
   "outputs": [
    {
     "data": {
      "text/plain": [
       "0.9532896696406469"
      ]
     },
     "execution_count": 24,
     "metadata": {},
     "output_type": "execute_result"
    }
   ],
   "source": [
    "# Test R2\n",
    "xgb_r.score(X_test_sparse,y_test)"
   ]
  },
  {
   "cell_type": "code",
   "execution_count": 25,
   "metadata": {},
   "outputs": [
    {
     "data": {
      "text/plain": [
       "0.9346471829992583"
      ]
     },
     "execution_count": 25,
     "metadata": {},
     "output_type": "execute_result"
    }
   ],
   "source": [
    "# Adjusted R2\n",
    "1-(1-xgb_r.score(X_test_sparse,y_test))*(len(y_test)-1)/(len(y_test)-X_test_sparse.shape[1]-1)"
   ]
  },
  {
   "cell_type": "markdown",
   "metadata": {},
   "source": [
    "### View top features"
   ]
  },
  {
   "cell_type": "code",
   "execution_count": 33,
   "metadata": {},
   "outputs": [],
   "source": [
    "from sklearn.feature_selection import SelectFromModel\n",
    "selection = SelectFromModel(xgb_r, prefit = True)\n",
    "selected_data = selection.transform(X_train_sparse)"
   ]
  },
  {
   "cell_type": "code",
   "execution_count": 27,
   "metadata": {},
   "outputs": [
    {
     "data": {
      "text/plain": [
       "1974"
      ]
     },
     "execution_count": 27,
     "metadata": {},
     "output_type": "execute_result"
    }
   ],
   "source": [
    "#Total selected features\n",
    "np.count_nonzero(xgb_r.feature_importances_)"
   ]
  },
  {
   "cell_type": "code",
   "execution_count": 47,
   "metadata": {},
   "outputs": [
    {
     "data": {
      "text/plain": [
       "<matplotlib.axes._subplots.AxesSubplot at 0x7f828e4cd690>"
      ]
     },
     "execution_count": 47,
     "metadata": {},
     "output_type": "execute_result"
    },
    {
     "data": {
      "image/png": "[encoded data removed]",
      "text/plain": [
       "<Figure size 576x1152 with 1 Axes>"
      ]
     },
     "metadata": {
      "needs_background": "light"
     },
     "output_type": "display_data"
    }
   ],
   "source": [
    "import xgboost as xg\n",
    "import matplotlib as plt\n",
    "from xgboost import plot_importance\n",
    "from matplotlib.pyplot import figure\n",
    "\n",
    "plt.rcParams[\"figure.figsize\"] = (8, 16)\n",
    "\n",
    "xgb_r.get_booster().feature_names = feature_names\n",
    "xg.plot_importance(xgb_r.get_booster(), max_num_features = 50)"
   ]
  },
  {
   "cell_type": "code",
   "execution_count": 42,
   "metadata": {},
   "outputs": [
    {
     "name": "stdout",
     "output_type": "stream",
     "text": [
      "Baseline RMSE is 6.30\n",
      "Baseline MSE is 39.69\n",
      "Baseline MAE is 3.44\n"
     ]
    }
   ],
   "source": [
    "from sklearn.metrics import mean_squared_error, mean_absolute_error\n",
    "\n",
    "\n",
    "mean_train = np.mean(y_train)\n",
    "\n",
    "# Get predictions on the test set\n",
    "baseline_predictions = np.ones(y_test.shape) * mean_train\n",
    "\n",
    "\n",
    "# Compute RMSE\n",
    "rmse_baseline = np.sqrt(mean_squared_error(y_test, baseline_predictions))\n",
    "print(\"Baseline RMSE is {:.2f}\".format(rmse_baseline))\n",
    "\n",
    "# Compute MSE\n",
    "mse_baseline = mean_squared_error(y_test, baseline_predictions)\n",
    "print(\"Baseline MSE is {:.2f}\".format(mse_baseline))\n",
    "\n",
    "# Compute MAE\n",
    "mae_baseline = mean_absolute_error(y_test, baseline_predictions)\n",
    "print(\"Baseline MAE is {:.2f}\".format(mae_baseline))"
   ]
  },
  {
   "cell_type": "code",
   "execution_count": 43,
   "metadata": {},
   "outputs": [
    {
     "name": "stdout",
     "output_type": "stream",
     "text": [
      "train RMSE :  0.451658\n",
      "train MSE :  0.203995\n",
      "train MAE :  0.333962\n"
     ]
    }
   ],
   "source": [
    "rmse = np.sqrt(mean_squared_error(y_train, y_train_preds))\n",
    "print(\"train RMSE : % f\" %(rmse)) \n",
    "\n",
    "mse = mean_squared_error(y_train, y_train_preds)\n",
    "print(\"train MSE : % f\" %(mse)) \n",
    "\n",
    "mae = mean_absolute_error(y_train, y_train_preds)\n",
    "print(\"train MAE : % f\" %(mae)) "
   ]
  },
  {
   "cell_type": "code",
   "execution_count": 44,
   "metadata": {},
   "outputs": [
    {
     "name": "stdout",
     "output_type": "stream",
     "text": [
      "test RMSE :  1.361579\n",
      "test MSE :  1.853898\n",
      "test MAE :  0.609747\n"
     ]
    }
   ],
   "source": [
    "rmse = np.sqrt(mean_squared_error(y_test, y_test_preds))\n",
    "print(\"test RMSE : % f\" %(rmse)) \n",
    "\n",
    "mse = mean_squared_error(y_test, y_test_preds)\n",
    "print(\"test MSE : % f\" %(mse)) \n",
    "\n",
    "mae = mean_absolute_error(y_test, y_test_preds)\n",
    "print(\"test MAE : % f\" %(mae)) "
   ]
  },
  {
   "cell_type": "code",
   "execution_count": 45,
   "metadata": {},
   "outputs": [
    {
     "data": {
      "image/png": "[encoded data removed]",
      "text/plain": [
       "<Figure size 576x576 with 1 Axes>"
      ]
     },
     "metadata": {
      "needs_background": "light"
     },
     "output_type": "display_data"
    }
   ],
   "source": [
    "import matplotlib.pyplot as plt \n",
    "from matplotlib import pyplot\n",
    "\n",
    "# make predictions for test data\n",
    "predictions = [round(value) for value in y_test_preds]\n",
    "\n",
    "# retrieve performance metrics\n",
    "results = xgb_r.evals_result()\n",
    "epochs = len(results['validation_0']['rmse'])\n",
    "x_axis = range(0, epochs)\n",
    "baseline_rmse_list = epochs * [rmse_baseline]\n",
    "\n",
    "# plot log loss\n",
    "fig, ax = pyplot.subplots(figsize=(8,8))\n",
    "ax.plot(x_axis, results['validation_0']['rmse'], label='Train')\n",
    "ax.plot(x_axis, results['validation_1']['rmse'], label='Test')\n",
    "ax.plot(x_axis, baseline_rmse_list, label='Baseline')\n",
    "ax.legend()\n",
    "\n",
    "pyplot.ylim(0,8)\n",
    "pyplot.ylabel('rmse')\n",
    "pyplot.title('XGBoost rmse')\n",
    "pyplot.show()\n"
   ]
  },
  {
   "cell_type": "code",
   "execution_count": null,
   "metadata": {},
   "outputs": [],
   "source": []
  }
 ],
 "metadata": {
  "kernelspec": {
   "display_name": "Python 3",
   "language": "python",
   "name": "python3"
  },
  "language_info": {
   "codemirror_mode": {
    "name": "ipython",
    "version": 3
   },
   "file_extension": ".py",
   "mimetype": "text/x-python",
   "name": "python",
   "nbconvert_exporter": "python",
   "pygments_lexer": "ipython3",
   "version": "3.7.4"
  }
 },
 "nbformat": 4,
 "nbformat_minor": 2
}
