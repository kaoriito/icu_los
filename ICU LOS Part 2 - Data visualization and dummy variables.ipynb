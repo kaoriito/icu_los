{
 "cells": [
  {
   "cell_type": "markdown",
   "metadata": {},
   "source": [
    "Now that we have combined multiple datasets into a single dataset, we want to visualize the data to note any abnormalities in the data, and also convert categorical variables into dummy variables."
   ]
  },
  {
   "cell_type": "code",
   "execution_count": 1,
   "metadata": {},
   "outputs": [],
   "source": [
    "import pandas as pd\n",
    "import numpy as np\n",
    "import matplotlib.pyplot as plt\n",
    "import pandas.testing"
   ]
  },
  {
   "cell_type": "code",
   "execution_count": 2,
   "metadata": {},
   "outputs": [],
   "source": [
    "df = pd.read_csv('data/ICU_combined.csv')"
   ]
  },
  {
   "cell_type": "code",
   "execution_count": 3,
   "metadata": {},
   "outputs": [
    {
     "data": {
      "text/plain": [
       "45054"
      ]
     },
     "execution_count": 3,
     "metadata": {},
     "output_type": "execute_result"
    }
   ],
   "source": [
    "len(df)"
   ]
  },
  {
   "cell_type": "code",
   "execution_count": 4,
   "metadata": {
    "scrolled": true
   },
   "outputs": [
    {
     "data": {
      "text/plain": [
       "Index(['SUBJECT_ID', 'HADM_ID', 'ICUSTAY_ID', 'LOS', 'INTIME', 'OUTTIME',\n",
       "       'ADMISSION_TYPE', 'ADMISSION_LOCATION', 'INSURANCE', 'ETHNICITY_WHITE',\n",
       "       'ETHNICITY_BLACK', 'ETHNICITY_HISPANIC/LATINO', 'ETHNICITY_ASIAN',\n",
       "       'ETHNICITY_NATIVE', 'ADMISSION_NUM', 'GENDER', 'ICUSTAY_NUM', 'AGE',\n",
       "       'ICD_BINS_18', 'ICD_BINS_1', 'ICD_BINS_2', 'ICD_BINS_3', 'ICD_BINS_4',\n",
       "       'ICD_BINS_5', 'ICD_BINS_6', 'ICD_BINS_7', 'ICD_BINS_8', 'ICD_BINS_9',\n",
       "       'ICD_BINS_10', 'ICD_BINS_11', 'ICD_BINS_12', 'ICD_BINS_13',\n",
       "       'ICD_BINS_14', 'ICD_BINS_15', 'ICD_BINS_16', 'ICD_BINS_17',\n",
       "       'COMORBID_TOTAL', 'ABNORMAL_EVENTS_TOTAL'],\n",
       "      dtype='object')"
      ]
     },
     "execution_count": 4,
     "metadata": {},
     "output_type": "execute_result"
    }
   ],
   "source": [
    "df.columns"
   ]
  },
  {
   "cell_type": "markdown",
   "metadata": {},
   "source": [
    "## LOS"
   ]
  },
  {
   "cell_type": "code",
   "execution_count": 5,
   "metadata": {},
   "outputs": [
    {
     "name": "stdout",
     "output_type": "stream",
     "text": [
      "max LOS: 173.07\n",
      "min LOS: 0.00\n"
     ]
    },
    {
     "data": {
      "text/plain": [
       "<matplotlib.axes._subplots.AxesSubplot at 0x7fb2663044d0>"
      ]
     },
     "execution_count": 5,
     "metadata": {},
     "output_type": "execute_result"
    },
    {
     "data": {
      "image/png": "[encoded data removed]",
      "text/plain": [
       "<Figure size 432x288 with 1 Axes>"
      ]
     },
     "metadata": {
      "needs_background": "light"
     },
     "output_type": "display_data"
    }
   ],
   "source": [
    "print('max LOS: %.2f' % df['LOS'].max())\n",
    "print('min LOS: %.2f' % df['LOS'].min())\n",
    "df['LOS'].hist(bins = 30)"
   ]
  },
  {
   "cell_type": "markdown",
   "metadata": {},
   "source": [
    "Note that this is very skewed. If using a linear model, we'll have to transform it. (log, boxcox or tukey transforms could work: https://medium.com/@ODSC/transforming-skewed-data-for-machine-learning-90e6cc364b0\n",
    "\n",
    "However, since we're going to use XGBoost, we'll leave it since regression trees are non-linear"
   ]
  },
  {
   "cell_type": "code",
   "execution_count": 6,
   "metadata": {
    "scrolled": false
   },
   "outputs": [
    {
     "data": {
      "text/plain": [
       "11363    173.0725\n",
       "11778    153.9280\n",
       "18952    116.8327\n",
       "19208    104.2483\n",
       "40136    101.7390\n",
       "19813    100.1225\n",
       "22433     98.8877\n",
       "2796      98.6446\n",
       "7213      97.4897\n",
       "17879     91.5726\n",
       "Name: LOS, dtype: float64"
      ]
     },
     "execution_count": 6,
     "metadata": {},
     "output_type": "execute_result"
    }
   ],
   "source": [
    "df['LOS'].nlargest(10)"
   ]
  },
  {
   "cell_type": "markdown",
   "metadata": {},
   "source": [
    "## ICD Codes - comorbidities"
   ]
  },
  {
   "cell_type": "code",
   "execution_count": 7,
   "metadata": {},
   "outputs": [
    {
     "data": {
      "text/plain": [
       "<matplotlib.axes._subplots.AxesSubplot at 0x7fb262bb0490>"
      ]
     },
     "execution_count": 7,
     "metadata": {},
     "output_type": "execute_result"
    },
    {
     "data": {
      "image/png": "[encoded data removed]",
      "text/plain": [
       "<Figure size 432x288 with 1 Axes>"
      ]
     },
     "metadata": {
      "needs_background": "light"
     },
     "output_type": "display_data"
    }
   ],
   "source": [
    "df['COMORBID_TOTAL'].hist()"
   ]
  },
  {
   "cell_type": "markdown",
   "metadata": {},
   "source": [
    "## Age"
   ]
  },
  {
   "cell_type": "code",
   "execution_count": 8,
   "metadata": {},
   "outputs": [
    {
     "data": {
      "text/plain": [
       "<matplotlib.axes._subplots.AxesSubplot at 0x7fb2629a0510>"
      ]
     },
     "execution_count": 8,
     "metadata": {},
     "output_type": "execute_result"
    },
    {
     "data": {
      "image/png": "[encoded data removed]",
      "text/plain": [
       "<Figure size 432x288 with 1 Axes>"
      ]
     },
     "metadata": {
      "needs_background": "light"
     },
     "output_type": "display_data"
    }
   ],
   "source": [
    "df['AGE'].hist(bins = 30)"
   ]
  },
  {
   "cell_type": "code",
   "execution_count": 9,
   "metadata": {},
   "outputs": [
    {
     "name": "stdout",
     "output_type": "stream",
     "text": [
      "max age: 89.00\n",
      "min age: 18.00\n"
     ]
    }
   ],
   "source": [
    "print('max age: %.2f' % df['AGE'].max())\n",
    "print('min age: %.2f' % df['AGE'].min())"
   ]
  },
  {
   "cell_type": "markdown",
   "metadata": {},
   "source": [
    "## Admissions"
   ]
  },
  {
   "cell_type": "code",
   "execution_count": 10,
   "metadata": {},
   "outputs": [
    {
     "data": {
      "text/plain": [
       "<matplotlib.axes._subplots.AxesSubplot at 0x7fb2629a0690>"
      ]
     },
     "execution_count": 10,
     "metadata": {},
     "output_type": "execute_result"
    },
    {
     "data": {
      "image/png": "[encoded data removed]",
      "text/plain": [
       "<Figure size 432x288 with 1 Axes>"
      ]
     },
     "metadata": {
      "needs_background": "light"
     },
     "output_type": "display_data"
    }
   ],
   "source": [
    "df['ADMISSION_NUM'].hist()"
   ]
  },
  {
   "cell_type": "code",
   "execution_count": 11,
   "metadata": {},
   "outputs": [
    {
     "data": {
      "text/plain": [
       "10832    42\n",
       "10831    41\n",
       "10830    40\n",
       "10829    39\n",
       "10828    38\n",
       "10827    37\n",
       "10826    36\n",
       "10825    35\n",
       "10438    34\n",
       "10824    34\n",
       "Name: ADMISSION_NUM, dtype: int64"
      ]
     },
     "execution_count": 11,
     "metadata": {},
     "output_type": "execute_result"
    }
   ],
   "source": [
    "df['ADMISSION_NUM'].nlargest(10)"
   ]
  },
  {
   "cell_type": "markdown",
   "metadata": {},
   "source": [
    "## ICU Stays"
   ]
  },
  {
   "cell_type": "code",
   "execution_count": 12,
   "metadata": {},
   "outputs": [
    {
     "data": {
      "text/plain": [
       "<matplotlib.axes._subplots.AxesSubplot at 0x7fb26237b510>"
      ]
     },
     "execution_count": 12,
     "metadata": {},
     "output_type": "execute_result"
    },
    {
     "data": {
      "image/png": "[encoded data removed]",
      "text/plain": [
       "<Figure size 432x288 with 1 Axes>"
      ]
     },
     "metadata": {
      "needs_background": "light"
     },
     "output_type": "display_data"
    }
   ],
   "source": [
    "df['ICUSTAY_NUM'].hist()"
   ]
  },
  {
   "cell_type": "code",
   "execution_count": 13,
   "metadata": {},
   "outputs": [
    {
     "data": {
      "text/plain": [
       "12979    7\n",
       "23415    7\n",
       "4863     6\n",
       "12978    6\n",
       "23414    6\n",
       "35144    6\n",
       "4862     5\n",
       "12977    5\n",
       "21244    5\n",
       "22310    5\n",
       "Name: ICUSTAY_NUM, dtype: int64"
      ]
     },
     "execution_count": 13,
     "metadata": {},
     "output_type": "execute_result"
    }
   ],
   "source": [
    "df['ICUSTAY_NUM'].nlargest(10)"
   ]
  },
  {
   "cell_type": "code",
   "execution_count": 14,
   "metadata": {},
   "outputs": [],
   "source": [
    "#df[df['ICUSTAY_NUM']>=6]"
   ]
  },
  {
   "cell_type": "markdown",
   "metadata": {},
   "source": [
    "__IMPORTANT:__ Because each person has the possibility of being admitted to the ICU >1, we need to take care of this carefully when we split the data into train/test sets, because we don't want to leak any of the data from the same people onto both sides."
   ]
  },
  {
   "cell_type": "markdown",
   "metadata": {},
   "source": [
    "## Total abnormal events"
   ]
  },
  {
   "cell_type": "code",
   "execution_count": 15,
   "metadata": {},
   "outputs": [
    {
     "data": {
      "text/plain": [
       "<matplotlib.axes._subplots.AxesSubplot at 0x7fb2624ea4d0>"
      ]
     },
     "execution_count": 15,
     "metadata": {},
     "output_type": "execute_result"
    },
    {
     "data": {
      "image/png": "[encoded data removed]",
      "text/plain": [
       "<Figure size 432x288 with 1 Axes>"
      ]
     },
     "metadata": {
      "needs_background": "light"
     },
     "output_type": "display_data"
    }
   ],
   "source": [
    "df['ABNORMAL_EVENTS_TOTAL'].hist()"
   ]
  },
  {
   "cell_type": "code",
   "execution_count": 16,
   "metadata": {},
   "outputs": [
    {
     "data": {
      "text/plain": [
       "11362    5480\n",
       "11363    5480\n",
       "11778    4417\n",
       "31773    4191\n",
       "31774    4191\n",
       "31775    4191\n",
       "31776    4191\n",
       "31777    4191\n",
       "43381    4145\n",
       "43382    4145\n",
       "Name: ABNORMAL_EVENTS_TOTAL, dtype: int64"
      ]
     },
     "execution_count": 16,
     "metadata": {},
     "output_type": "execute_result"
    }
   ],
   "source": [
    "df['ABNORMAL_EVENTS_TOTAL'].nlargest(10)"
   ]
  },
  {
   "cell_type": "markdown",
   "metadata": {},
   "source": [
    "## Admission Types & Location\n",
    "\n",
    "use one hot encoding for admission types and location, dropping 'info not available' column"
   ]
  },
  {
   "cell_type": "code",
   "execution_count": 17,
   "metadata": {},
   "outputs": [
    {
     "data": {
      "text/plain": [
       "array(['EMERGENCY', 'ELECTIVE', 'URGENT'], dtype=object)"
      ]
     },
     "execution_count": 17,
     "metadata": {},
     "output_type": "execute_result"
    }
   ],
   "source": [
    "df['ADMISSION_TYPE'].unique()"
   ]
  },
  {
   "cell_type": "code",
   "execution_count": 18,
   "metadata": {},
   "outputs": [
    {
     "data": {
      "text/plain": [
       "<matplotlib.axes._subplots.AxesSubplot at 0x7fb262413790>"
      ]
     },
     "execution_count": 18,
     "metadata": {},
     "output_type": "execute_result"
    },
    {
     "data": {
      "image/png": "[encoded data removed]",
      "text/plain": [
       "<Figure size 432x288 with 1 Axes>"
      ]
     },
     "metadata": {
      "needs_background": "light"
     },
     "output_type": "display_data"
    }
   ],
   "source": [
    "df['ADMISSION_TYPE'].hist()"
   ]
  },
  {
   "cell_type": "code",
   "execution_count": 19,
   "metadata": {},
   "outputs": [],
   "source": [
    "# create dummy variables \"ADMISSION_EMERGENCY\", \"ADMISSION_ELECTIVE\", etc\n",
    "admissions = pd.get_dummies(df['ADMISSION_TYPE'], prefix = 'ADMISSION', prefix_sep = '_')\n",
    "df = df.join(admissions)\n",
    "df.drop(['ADMISSION_TYPE'], axis = 1, inplace = True)"
   ]
  },
  {
   "cell_type": "code",
   "execution_count": 20,
   "metadata": {},
   "outputs": [
    {
     "data": {
      "text/plain": [
       "array(['EMERGENCY ROOM ADMIT', 'PHYS REFERRAL/NORMAL DELI',\n",
       "       'TRANSFER FROM HOSP/EXTRAM', 'CLINIC REFERRAL/PREMATURE',\n",
       "       'TRANSFER FROM SKILLED NUR', 'TRANSFER FROM OTHER HEALT',\n",
       "       'HMO REFERRAL/SICK', '** INFO NOT AVAILABLE **',\n",
       "       'TRSF WITHIN THIS FACILITY'], dtype=object)"
      ]
     },
     "execution_count": 20,
     "metadata": {},
     "output_type": "execute_result"
    }
   ],
   "source": [
    "df['ADMISSION_LOCATION'].unique()"
   ]
  },
  {
   "cell_type": "code",
   "execution_count": 21,
   "metadata": {},
   "outputs": [
    {
     "data": {
      "text/plain": [
       "ADMISSION_LOCATION\n",
       "** INFO NOT AVAILABLE **         3\n",
       "CLINIC REFERRAL/PREMATURE     8999\n",
       "EMERGENCY ROOM ADMIT         19482\n",
       "HMO REFERRAL/SICK                1\n",
       "PHYS REFERRAL/NORMAL DELI     8600\n",
       "TRANSFER FROM HOSP/EXTRAM     7714\n",
       "TRANSFER FROM OTHER HEALT       63\n",
       "TRANSFER FROM SKILLED NUR      187\n",
       "TRSF WITHIN THIS FACILITY        5\n",
       "Name: SUBJECT_ID, dtype: int64"
      ]
     },
     "execution_count": 21,
     "metadata": {},
     "output_type": "execute_result"
    }
   ],
   "source": [
    "# look at the number of people for each admission location\n",
    "df.groupby(['ADMISSION_LOCATION'])['SUBJECT_ID'].count()"
   ]
  },
  {
   "cell_type": "code",
   "execution_count": 22,
   "metadata": {},
   "outputs": [],
   "source": [
    "df['ADMISSION_LOCATION'].replace(' ', '_', regex=True, inplace = True)"
   ]
  },
  {
   "cell_type": "code",
   "execution_count": 23,
   "metadata": {},
   "outputs": [],
   "source": [
    "admit_location = pd.get_dummies(df['ADMISSION_LOCATION'], prefix = 'ADMIT_LOCATION', prefix_sep = '_')"
   ]
  },
  {
   "cell_type": "code",
   "execution_count": 24,
   "metadata": {},
   "outputs": [],
   "source": [
    "# drop ones that don't have a lot of data\n",
    "admit_location.drop(['ADMIT_LOCATION_**_INFO_NOT_AVAILABLE_**','ADMIT_LOCATION_HMO_REFERRAL/SICK','ADMIT_LOCATION_TRSF_WITHIN_THIS_FACILITY'], axis = 1, inplace = True)"
   ]
  },
  {
   "cell_type": "code",
   "execution_count": 25,
   "metadata": {},
   "outputs": [],
   "source": [
    "df = df.join(admit_location)\n",
    "df.drop(['ADMISSION_LOCATION'], axis = 1,inplace = True)"
   ]
  },
  {
   "cell_type": "markdown",
   "metadata": {},
   "source": [
    "## Insurance"
   ]
  },
  {
   "cell_type": "code",
   "execution_count": 26,
   "metadata": {},
   "outputs": [
    {
     "data": {
      "text/plain": [
       "<matplotlib.axes._subplots.AxesSubplot at 0x7fb26268a610>"
      ]
     },
     "execution_count": 26,
     "metadata": {},
     "output_type": "execute_result"
    },
    {
     "data": {
      "image/png": "[encoded data removed]",
      "text/plain": [
       "<Figure size 432x288 with 1 Axes>"
      ]
     },
     "metadata": {
      "needs_background": "light"
     },
     "output_type": "display_data"
    }
   ],
   "source": [
    "df['INSURANCE'].hist()"
   ]
  },
  {
   "cell_type": "code",
   "execution_count": 27,
   "metadata": {},
   "outputs": [],
   "source": [
    "df['INSURANCE'].replace(' ','_', regex = True, inplace = True)"
   ]
  },
  {
   "cell_type": "code",
   "execution_count": 28,
   "metadata": {},
   "outputs": [],
   "source": [
    "insurance = pd.get_dummies(df['INSURANCE'], prefix = 'INSURANCE', prefix_sep = '_')\n",
    "df = df.join(insurance)\n",
    "df.drop(['INSURANCE'], axis = 1, inplace = True)"
   ]
  },
  {
   "cell_type": "markdown",
   "metadata": {},
   "source": [
    "## Gender"
   ]
  },
  {
   "cell_type": "code",
   "execution_count": 29,
   "metadata": {},
   "outputs": [
    {
     "data": {
      "text/plain": [
       "<matplotlib.axes._subplots.AxesSubplot at 0x7fb262d89c10>"
      ]
     },
     "execution_count": 29,
     "metadata": {},
     "output_type": "execute_result"
    },
    {
     "data": {
      "image/png": "[encoded data removed]",
      "text/plain": [
       "<Figure size 432x288 with 1 Axes>"
      ]
     },
     "metadata": {
      "needs_background": "light"
     },
     "output_type": "display_data"
    }
   ],
   "source": [
    "df['GENDER'].hist()"
   ]
  },
  {
   "cell_type": "code",
   "execution_count": 30,
   "metadata": {},
   "outputs": [],
   "source": [
    "gender = pd.get_dummies(df['GENDER'])\n",
    "df = df.join(gender)\n",
    "df.drop(['GENDER'], axis = 1, inplace = True)"
   ]
  },
  {
   "cell_type": "code",
   "execution_count": 31,
   "metadata": {},
   "outputs": [
    {
     "data": {
      "text/plain": [
       "Index(['SUBJECT_ID', 'HADM_ID', 'ICUSTAY_ID', 'LOS', 'INTIME', 'OUTTIME',\n",
       "       'ETHNICITY_WHITE', 'ETHNICITY_BLACK', 'ETHNICITY_HISPANIC/LATINO',\n",
       "       'ETHNICITY_ASIAN', 'ETHNICITY_NATIVE', 'ADMISSION_NUM', 'ICUSTAY_NUM',\n",
       "       'AGE', 'ICD_BINS_18', 'ICD_BINS_1', 'ICD_BINS_2', 'ICD_BINS_3',\n",
       "       'ICD_BINS_4', 'ICD_BINS_5', 'ICD_BINS_6', 'ICD_BINS_7', 'ICD_BINS_8',\n",
       "       'ICD_BINS_9', 'ICD_BINS_10', 'ICD_BINS_11', 'ICD_BINS_12',\n",
       "       'ICD_BINS_13', 'ICD_BINS_14', 'ICD_BINS_15', 'ICD_BINS_16',\n",
       "       'ICD_BINS_17', 'COMORBID_TOTAL', 'ABNORMAL_EVENTS_TOTAL',\n",
       "       'ADMISSION_ELECTIVE', 'ADMISSION_EMERGENCY', 'ADMISSION_URGENT',\n",
       "       'ADMIT_LOCATION_CLINIC_REFERRAL/PREMATURE',\n",
       "       'ADMIT_LOCATION_EMERGENCY_ROOM_ADMIT',\n",
       "       'ADMIT_LOCATION_PHYS_REFERRAL/NORMAL_DELI',\n",
       "       'ADMIT_LOCATION_TRANSFER_FROM_HOSP/EXTRAM',\n",
       "       'ADMIT_LOCATION_TRANSFER_FROM_OTHER_HEALT',\n",
       "       'ADMIT_LOCATION_TRANSFER_FROM_SKILLED_NUR', 'INSURANCE_Government',\n",
       "       'INSURANCE_Medicaid', 'INSURANCE_Medicare', 'INSURANCE_Private',\n",
       "       'INSURANCE_Self_Pay', 'F', 'M'],\n",
       "      dtype='object')"
      ]
     },
     "execution_count": 31,
     "metadata": {},
     "output_type": "execute_result"
    }
   ],
   "source": [
    "df.columns"
   ]
  },
  {
   "cell_type": "code",
   "execution_count": 32,
   "metadata": {},
   "outputs": [],
   "source": [
    "df.to_csv('data/ICU_preprocessed.csv', index=False) "
   ]
  }
 ],
 "metadata": {
  "kernelspec": {
   "display_name": "Python 3",
   "language": "python",
   "name": "python3"
  },
  "language_info": {
   "codemirror_mode": {
    "name": "ipython",
    "version": 3
   },
   "file_extension": ".py",
   "mimetype": "text/x-python",
   "name": "python",
   "nbconvert_exporter": "python",
   "pygments_lexer": "ipython3",
   "version": "3.7.4"
  }
 },
 "nbformat": 4,
 "nbformat_minor": 2
}
